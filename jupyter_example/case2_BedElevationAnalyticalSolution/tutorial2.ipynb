{
 "cells": [
  {
   "cell_type": "markdown",
   "id": "b1293925",
   "metadata": {},
   "source": [
    "<a href=\"http://landlab.github.io\"><img style=\"float: left\" src=\"https://raw.githubusercontent.com/landlab/tutorials/release/landlab_header.png\"></a>"
   ]
  },
  {
   "cell_type": "markdown",
   "id": "f372b8b9",
   "metadata": {},
   "source": [
    "# Test comparing deposition and erosion to dell size sensitvity \n",
    "This notebook was created by Sam Anderson, Mikey Sison and Angel Monsalve."
   ]
  },
  {
   "cell_type": "markdown",
   "id": "e538d282",
   "metadata": {},
   "source": [
    "<hr>\n",
    "<small>For tutorials on learning Landlab, click here: <a href=\"https://github.com/landlab/landlab/wiki/Tutorials\">https://github.com/landlab/landlab/wiki/Tutorials</a></small>\n",
    "<hr>"
   ]
  },
  {
   "cell_type": "markdown",
   "id": "29725149",
   "metadata": {},
   "source": [
    "**What is this notebook?**\n",
    "\n",
    "This notebook generates results to compare the behaivor of ... to be completed later \n",
    "\n",
    "To test the ability of our component for predicting changes in the bed surface elevation we obtained an analytical solution for an idealized channel with uniform flow conditions. In this case, a given bed load transport rate is imposed at the upstream boundary such that the bed surface slope must adjust until the channel reaches a stable condition. We combined Manning’s equation to include uniform flow conditions and Meyer-Peter & Müller (1948) to estimate bed load transport rate within the channel. \n",
    "\n",
    "We conducted two tests to evaluate the response of our component. Both cases start with the same initial bed configuration but differ in the imposed upstream sediment supply rate. In general terms, they consist of a 1500 m long, straight channel with an initial bed surface slope of 0.015 m/m, the elevation at the outlet is fixed at 0 m, and the surface roughness is n = 0.03874. Flow discharge is constant Q = 100 m3/s and is specified by using a rainfall intensity of 0.01 m/s acting over a single cell of 100 m per side (∆x=∆y) located at the upstream boundary. The grid consists only of uniformly sized cells. The bed surface GSD is uniform with a grain size of 50 mm and , the bed load transport equation is that of Meyer-Peter & Müller (1948). In OverlandFlow we specified h_init, the initial water depth in all cells, as 1 mm, the time step is limited to a maximum of 5 s, and left all the other variables with are left as their default value. To better manage the interaction of boundary conditions between OverlandFlow and riverBedDynamics we added ghost nodes, one at the downstream and two and the upstream end. These  ghost nodes are used to extend the study reach and help reaching uniform flow conditions once a new stable slope has been reached. The modeled scenarios are a purely aggradation case in which q_b = 0.0087 m2/s and purely degradation case where q_b = 0.0012 m2/s. By applying Eq. 37, the equilibrium slope for both scenarios are 0.025 and 0.010, respectively.\n",
    "\n",
    "We ran each case for 120 days and compared the predicted and analytical bed slopes in both cases at the end of the simulation. We chose 120 days as comparing point because the rate at which the bed elevations were changing were relatively small, 9·10-5 and -4·10-4 m/day in the aggradation and degradation cases, respectively. We considered these rates small enough to be representative of an equilibrium condition. \n",
    "\n",
    "In the aggradation case our LEM predicts an S equal to 0.0251 (percentage error of 0.32 %), the degradation case had an S of 0.0101 (percentage error of 1.439 %). Locally, the major differences between the predicted and analytical bed elevation are found in the upstream region, near where the sediment supply is imposed. The maximum local differences are 0.136 m for the aggradation case and 0.200 m for the degradation scenario (Figure 7). The small percentage error and the general trend of the local surface elevation   (Figure 7) suggests that our component can accurately predict changes in bed elevation. \n",
    "\n",
    "We analyzed the sensitivity of our results to the mesh size in the pure aggradation case by comparing the bed elevation after 120 days of simulation using meshes with half and a quarter of the size of the beforementioned case (Figure 8). By the end of the run the average slope was 0.0251 in all cases. The percentage error was 0.32, 0.31, and 0.29 %   for the 25, 50, and 100 m grid resolution, respectively. Beside the mesh size, the configuration was identical in all cases except for the maximum time step, which was 5 s for the 100 and 50 m cases and 2.5 s for the 25 m run. \n",
    "\n",
    "More background on the model used here and the results presented will be published in the future and the citation will be added here:\n",
    "\n",
    "**TITLE HERE**\n",
    "\n",
    "The code used in this exercise is taken from the above reference.\n",
    "\n"
   ]
  },
  {
   "cell_type": "markdown",
   "id": "56e95825",
   "metadata": {},
   "source": [
    "**Now on to the code.**\n",
    "* Below we import Landlab components, functions for importing data, numpy and plotting tools. You should not need to change this."
   ]
  },
  {
   "cell_type": "code",
   "execution_count": 1,
   "id": "9ec082fa",
   "metadata": {},
   "outputs": [],
   "source": [
    "## Code Block 1\n",
    "\n",
    "%reset -f\n",
    "import numpy as np\n",
    "import pandas as pd\n",
    "import copy\n",
    "from matplotlib import pyplot as plt\n",
    "from landlab.components import OverlandFlowSpatiallyVariableInputs, RiverBedDynamics\n",
    "from landlab.io import read_esri_ascii\n",
    "from landlab import imshow_grid\n"
   ]
  },
  {
   "cell_type": "markdown",
   "id": "282e26c9",
   "metadata": {},
   "source": [
    "Now we import the elevation data (DEM), as well as grain size distribution (GSD) information. There are three possible DEM's which can be used, the default 'bedElevationDEM.asc' for the cases of either erosion or depostion, and either 'bedElevationDEM50mMesh.asc' or 'bedElevationDEM25mMesh.asc' where mesh size is half or a quater of the size of the default, respectively."
   ]
  },
  {
   "cell_type": "code",
   "execution_count": null,
   "id": "f049d837",
   "metadata": {},
   "outputs": [],
   "source": [
    "## Code Block 2\n",
    "\n",
    "bedElevation =      'bedElevationDEM.asc'     # The other DEMs are 'bedElevationDEM50mMesh.asc' or 'bedElevationDEM25mMesh.asc'\n",
    "(rmg, z) = read_esri_ascii(bedElevation, name='topographic__elevation')\n",
    "\n",
    "gsd = pd.read_excel('bedGSD.xlsx', sheet_name='GSD', skiprows = 0).values   # GSD is same between all examples"
   ]
  },
  {
   "cell_type": "markdown",
   "id": "7b15be65-06c6-4e39-ac09-445bac2066da",
   "metadata": {},
   "source": [
    "And now we imput some model parameters. Note Max_dt can change with different DEM."
   ]
  },
  {
   "cell_type": "code",
   "execution_count": null,
   "id": "fcc9073e-b539-4605-880b-01c1eb64e214",
   "metadata": {},
   "outputs": [],
   "source": [
    "dtPrecision = 3         # Avoids rounding errors\n",
    "max_dt = 5              # Change to 2.5 if using the 25m mesh \n",
    "tPlot = 950400          # Plots will be obtained every this seconds **THIS VALUE WAS CHANGED FROM THE ORIGINAL**\n",
    "storeData = 86400       # Stores results every this time\n",
    "tmax = 121*86400        # Maximum simulation time\n",
    "n = 0.03874             # Manning's n "
   ]
  },
  {
   "cell_type": "markdown",
   "id": "07db55dc-29b0-4037-975f-259c5a004a36",
   "metadata": {},
   "source": [
    "Here, we specify some important locations (links and nodes) where we take data from and where we specify where sediment is coming from. Note: These values can change with different DEMs."
   ]
  },
  {
   "cell_type": "code",
   "execution_count": null,
   "id": "cdf8ed7b-a4f9-439f-aa57-cc3ca0906472",
   "metadata": {},
   "outputs": [],
   "source": [
    "# Flow, bed, and upstream simulation conditions \n",
    "upstreamSedSupply = -0.0012         # bedload rate at inlet\n",
    "\n",
    "# Link Id in which sediment supply and discharge enters\n",
    "link_Inlet = np.array([83])\n",
    "\n",
    "# Node Id where Water depth is specified\n",
    "Node_Inlet = np.array([52])\n",
    "\n",
    "# Node ID for fixed Nodes\n",
    "fixedNodesId = np.array((1,4))"
   ]
  },
  {
   "cell_type": "code",
   "execution_count": null,
   "id": "7687a843-9e85-4653-8065-10801cb1ca79",
   "metadata": {},
   "outputs": [],
   "source": []
  },
  {
   "cell_type": "code",
   "execution_count": null,
   "id": "064bfaa8",
   "metadata": {},
   "outputs": [],
   "source": [
    "## Code Block 3\n",
    "\n",
    "# Creates fields and instantiate the component\n",
    "OverlandFlowSpatiallyVariableInputs.input_var_names\n",
    "RiverBedDynamics.input_var_names\n",
    "rmg.add_zeros('bed_surface__roughness', at = 'link')\n",
    "rmg.add_zeros('surface_water__depth', at = 'node')\n",
    "rmg.add_zeros('rainfall__intensity', at = 'node')\n",
    "rmg['node']['bed_surface__grain_size_distribution_location'] = np.zeros_like(z)     \n",
    "rmg['node']['topographic__elevation_original'] = copy.deepcopy(z)               # Converts precipitation from mm/hr to m/s\n",
    "rmg['node']['bed_surface__grainSizeDistribution_location'] = np.zeros_like(z)     "
   ]
  },
  {
   "cell_type": "code",
   "execution_count": null,
   "id": "00175af2-24e0-4198-9280-b5977a438d80",
   "metadata": {},
   "outputs": [],
   "source": []
  },
  {
   "cell_type": "code",
   "execution_count": null,
   "id": "15cb86e7",
   "metadata": {},
   "outputs": [],
   "source": [
    "## Code Block 4\n",
    "\n",
    "# Instantiation of components\n",
    "of = OverlandFlowSpatiallyVariableInputs(rmg, dt_max=max_dt,h_init=0.001)\n",
    "rbd = RiverBedDynamics(rmg , gsd = gsd, variableCriticalShearStress = True, outletBoundaryCondition='fixedValue')"
   ]
  },
  {
   "cell_type": "code",
   "execution_count": null,
   "id": "a458e9b7-4196-467d-b4d2-2b211f0a6af6",
   "metadata": {},
   "outputs": [],
   "source": []
  },
  {
   "cell_type": "code",
   "execution_count": null,
   "id": "50b4da56",
   "metadata": {},
   "outputs": [],
   "source": [
    "## Code Block 6\n",
    "\n",
    "# Set boundaries as closed boundaries, the outlet is set to an open boundary. \n",
    "rmg.set_watershed_boundary_condition(z) \n"
   ]
  },
  {
   "cell_type": "code",
   "execution_count": null,
   "id": "2ff60893-1120-49eb-9367-b376cc879139",
   "metadata": {},
   "outputs": [],
   "source": []
  },
  {
   "cell_type": "code",
   "execution_count": null,
   "id": "9e40e80e",
   "metadata": {},
   "outputs": [],
   "source": [
    "## Code Block 7\n",
    "\n",
    "# Creates the fixed nodes information\n",
    "fixedNodes = np.zeros_like(z)   # fixedNodes defines as 1 if a node is fixed or 0 if it can vary in elevation\n",
    "fixedNodes[fixedNodesId] = 1\n",
    "rmg['node']['bed_surface__fixedElevation'] = fixedNodes                         # Assigns fixed locations to landlab grid \n",
    "\n",
    "# Create bed and flow initial condition\n",
    "rmg['link']['bed_surface__roughness'] = np.zeros(rmg.number_of_links) + n       # n is Manning's roughness coefficient\n",
    "rmg['node']['rainfall__intensity'][Node_Inlet] = 0.01                           # Precipitation in m/s\n",
    "rmg['link']['sediment_transport__imposed_sediment_supply'][link_Inlet] = upstreamSedSupply\n"
   ]
  },
  {
   "cell_type": "code",
   "execution_count": null,
   "id": "8514e0af-2a3d-4e43-8ee4-805e46240f00",
   "metadata": {},
   "outputs": [],
   "source": []
  },
  {
   "cell_type": "code",
   "execution_count": null,
   "id": "401e083c",
   "metadata": {},
   "outputs": [],
   "source": [
    "## Code Block 8\n",
    "\n",
    "# Node ID for calculated node elevation\n",
    "calcNodesId = np.arange(51,57)\n",
    "nCols = rmg.number_of_node_columns\n",
    "nRowsCalcNodes = int(calcNodesId.shape[0]/nCols)\n",
    "calcNodesId = np.reshape(calcNodesId,(nRowsCalcNodes,nCols))"
   ]
  },
  {
   "cell_type": "code",
   "execution_count": null,
   "id": "4519f936-4c7d-4f3f-b3eb-c9d1b95c686e",
   "metadata": {},
   "outputs": [],
   "source": []
  },
  {
   "cell_type": "code",
   "execution_count": 1,
   "id": "3f60afb2",
   "metadata": {},
   "outputs": [
    {
     "ename": "NameError",
     "evalue": "name 'copy' is not defined",
     "output_type": "error",
     "traceback": [
      "\u001b[1;31m---------------------------------------------------------------------------\u001b[0m",
      "\u001b[1;31mNameError\u001b[0m                                 Traceback (most recent call last)",
      "\u001b[1;32m<ipython-input-1-cfbf7978a2e7>\u001b[0m in \u001b[0;36m<module>\u001b[1;34m\u001b[0m\n\u001b[0;32m      6\u001b[0m \u001b[0mplotNow\u001b[0m \u001b[1;33m=\u001b[0m \u001b[1;32mTrue\u001b[0m                          \u001b[1;31m# Used to save the plot at time zero\u001b[0m\u001b[1;33m\u001b[0m\u001b[1;33m\u001b[0m\u001b[0m\n\u001b[0;32m      7\u001b[0m \u001b[0mcheck_tmax\u001b[0m \u001b[1;33m=\u001b[0m \u001b[1;32mTrue\u001b[0m\u001b[1;33m\u001b[0m\u001b[1;33m\u001b[0m\u001b[0m\n\u001b[1;32m----> 8\u001b[1;33m \u001b[0mtPlotOrg\u001b[0m\u001b[1;33m=\u001b[0m\u001b[0mcopy\u001b[0m\u001b[1;33m.\u001b[0m\u001b[0mdeepcopy\u001b[0m\u001b[1;33m(\u001b[0m\u001b[0mtPlot\u001b[0m\u001b[1;33m)\u001b[0m           \u001b[1;31m# A copy of tPlot\u001b[0m\u001b[1;33m\u001b[0m\u001b[1;33m\u001b[0m\u001b[0m\n\u001b[0m\u001b[0;32m      9\u001b[0m \u001b[0mstoreDataOrg\u001b[0m\u001b[1;33m=\u001b[0m\u001b[0mcopy\u001b[0m\u001b[1;33m.\u001b[0m\u001b[0mdeepcopy\u001b[0m\u001b[1;33m(\u001b[0m\u001b[0mstoreData\u001b[0m\u001b[1;33m)\u001b[0m   \u001b[1;31m# A copy of tPlot\u001b[0m\u001b[1;33m\u001b[0m\u001b[1;33m\u001b[0m\u001b[0m\n",
      "\u001b[1;31mNameError\u001b[0m: name 'copy' is not defined"
     ]
    }
   ],
   "source": [
    "## Code Block 9\n",
    "\n",
    "\"\"\" Defines some variables to store data \"\"\"\n",
    "t = 0                                   # Initializates the variable\n",
    "storeNow = True\n",
    "plotNow = True                          # Used to save the plot at time zero\n",
    "check_tmax = True\n",
    "tPlotOrg=copy.deepcopy(tPlot)           # A copy of tPlot\n",
    "storeDataOrg=copy.deepcopy(storeData)   # A copy of tPlot"
   ]
  },
  {
   "cell_type": "code",
   "execution_count": null,
   "id": "4fecc5be-4416-493c-989e-870ce9a4342b",
   "metadata": {},
   "outputs": [],
   "source": []
  },
  {
   "cell_type": "code",
   "execution_count": null,
   "id": "75b3e6a5",
   "metadata": {},
   "outputs": [],
   "source": [
    "## Code Block 10\n",
    "\n",
    "while t < tmax:\n",
    "    \n",
    "    of.overland_flow()  # Runs overland flow for one time step\n",
    "    rbd.run_one_step()  # Runs riverBedDynamics for one time step\n",
    "    \n",
    "    # Gradient preserving at upstream ghost cells\n",
    "    dsNodesId = np.array(calcNodesId[0,1]-np.arange(1,3)*nCols)\n",
    "    z = rmg['node']['topographic__elevation']\n",
    "    bedSlope = (z[dsNodesId[0]] - z[dsNodesId[1]]) / rmg.dx\n",
    "    \n",
    "    for i in np.arange(0,calcNodesId.shape[0]):\n",
    "        rmg['node']['topographic__elevation'][calcNodesId[i,1:nCols-1]] = z[calcNodesId[i,1:nCols-1] - 2*nCols] + 2 * rmg.dx * bedSlope\n",
    "        \n",
    "    ## Stores results\n",
    "    storeData = round(storeData-of.dt, dtPrecision)\n",
    "    if (storeData <=0) or storeNow:\n",
    "        print('Storing results at time :',np.round(t,1),' s')\n",
    "        print('Upstream sediment supply :',upstreamSedSupply,' m2/s')\n",
    "        data = np.reshape(np.hstack([t,(np.abs(of._q * rmg.dx).T)]),[1,rmg.number_of_links+1])\n",
    "        with open(\"output0_links_surface_water__discharge.txt\", \"ab\") as f:\n",
    "            np.savetxt(f, data,'%.3f')\n",
    "        data = np.reshape(np.hstack([t,(of._h.T)]),[1,rmg.number_of_nodes+1])\n",
    "        with open(\"output1_node_surface_water__depth.txt\", \"ab\") as f:\n",
    "            np.savetxt(f, data,'%.3f')      \n",
    "        data = np.reshape(np.hstack([t,np.abs(rbd._tau.T)]),[1,rmg.number_of_links+1])\n",
    "        with open(\"output2_link_surface_water__shearStress.txt\", \"ab\") as f:\n",
    "            np.savetxt(f, data,'%.3f')   \n",
    "        data = np.reshape(np.hstack([t,rmg.at_node[\"topographic__elevation\"].T]),[1,rmg.number_of_nodes+1])\n",
    "        with open(\"output3_node_topographic__elevation.txt\", \"ab\") as f:\n",
    "            np.savetxt(f, data,'%.3f') \n",
    "        data = np.reshape(np.hstack([t,rmg.at_node[\"bed_surface__medianSize\"].T]),[1,rmg.number_of_nodes+1])\n",
    "        with open(\"output4_node_bed_surface__medianSize.txt\", \"ab\") as f:\n",
    "            np.savetxt(f, data,'%.3f')\n",
    "        data = np.reshape(np.hstack([t,rmg.at_link['sediment_transport__bedloadRate'].T]),[1,rmg.number_of_links+1])\n",
    "        with open(\"output5_links_sediment_transport__bedloadRate.txt\", \"ab\") as f:\n",
    "            np.savetxt(f, data,'%.5f')  \n",
    "        storeData = round(storeDataOrg, dtPrecision)\n",
    "        storeNow = False\n",
    "\n",
    "    tPlot = round(tPlot-of.dt, dtPrecision)\n",
    "    if tPlot <= 0  or plotNow:\n",
    "        print('Elapsed time :',np.round(t,1),' s. Current dt =',\\\n",
    "              np.round(of.dt,1),'. Adaptive time =',np.round(of._adaptive_dt,1),' s - Saving plot')\n",
    "        \n",
    "        # Water depth plot\n",
    "        plot_name='Surface water depth [m] at ' + str(np.round(t,0)) + ' sec'\n",
    "        imshow_grid(rmg, 'surface_water__depth',cmap='Blues',vmin=0,vmax=0.5,plot_name=plot_name)\n",
    "        output='depth_'+str(np.round(t,0))+'.png'\n",
    "        plt.savefig(output,dpi=300); plt.close()  \n",
    "        \n",
    "        #Bed surface variation plot\n",
    "        plot_name='Bed surface elevation variation [m] at ' + str(np.round(t,0)) + ' sec'\n",
    "        ZVar = rmg.at_node[\"topographic__elevation\"] - rmg.at_node['topographic__elevation_original'] \n",
    "        imshow_grid(rmg, ZVar,cmap='RdGy',vmin=0,vmax=25,plot_name=plot_name)\n",
    "        output='topographicVariation_'+str(np.round(t,0))+'.png'\n",
    "        plt.savefig(output,dpi=300); plt.close()    \n",
    "\n",
    "        plotNow = False\n",
    "        tPlot = tPlotOrg\n",
    "\n",
    "    # Updating t\n",
    "    if (t + of.dt > tmax) and check_tmax:\n",
    "        of.dt = tmax - t\n",
    "        t = tmax\n",
    "        storeDataNow = True  \n",
    "        plotNow = True\n",
    "        check_tmax = False\n",
    "    else:\n",
    "        t = round(t + of.dt, dtPrecision)"
   ]
  },
  {
   "cell_type": "markdown",
   "id": "4eff251d-5b86-46d9-b570-2837bc800539",
   "metadata": {},
   "source": [
    "Figure 7: Changes in bed surface elevation for a case of a) pure aggradation and b) pure degradation. The analytical solution corresponds to the equilibrium slope given by Eq. 37. Only one point or elevation per cell was used for plotting. The small differences in bed elevation after 40 and 120 days indicate that the systems are achieving an equilibrium state."
   ]
  },
  {
   "cell_type": "code",
   "execution_count": null,
   "id": "210e8007",
   "metadata": {},
   "outputs": [],
   "source": [
    "###\n",
    "\"\"\"\n",
    "\n",
    "THIS IS OLD CODE FROM TUTORIAL ONE, I LEFT IT TO CHANGED LATER TO MAKE SOME NEW PLOTS\n",
    "\n",
    "\n",
    "## Code Block 11\n",
    "\n",
    "# Results\n",
    "## Water depth at the end of the simulation\n",
    "data = np.loadtxt('output1_node_surface_water__depth.txt')\n",
    "nodesToSample = np.arange(rmg.number_of_node_columns+1,2*rmg.number_of_node_columns)\n",
    "x = np.arange(0,(rmg.number_of_node_columns-1)*rmg.dx,rmg.dx)\n",
    "\n",
    "hSample = data[-1,nodesToSample]\n",
    "\n",
    "hAnalytical = np.zeros_like(x)+h_init\n",
    "hAnalytical[np.where(x<u*tmax)] =(-7/3 * (n**2 * u**2 * (x[np.where(x<u*tmax)]-u*tmax)))**(3/7)\n",
    "\n",
    "plt.figure(1)\n",
    "plt.plot(x, hSample, color='mediumblue')\n",
    "plt.plot(x, hAnalytical, color='black')\n",
    "plt.ylabel('Water depth (m)')\n",
    "plt.xlabel('x (x)')\n",
    "plt.ylim(0,2.5)\n",
    "plt.xlim(0,5000)\n",
    "plt.title('Water depth at 3600 s')\n",
    "plt.savefig('WaterDepth.png',dpi=300);plt.close()\n",
    "\"\"\"  "
   ]
  },
  {
   "cell_type": "code",
   "execution_count": null,
   "id": "6b2f0079",
   "metadata": {},
   "outputs": [],
   "source": []
  },
  {
   "cell_type": "code",
   "execution_count": null,
   "id": "beb4df5f",
   "metadata": {},
   "outputs": [],
   "source": []
  }
 ],
 "metadata": {
  "kernelspec": {
   "display_name": "Python 3 (ipykernel)",
   "language": "python",
   "name": "python3"
  },
  "language_info": {
   "codemirror_mode": {
    "name": "ipython",
    "version": 3
   },
   "file_extension": ".py",
   "mimetype": "text/x-python",
   "name": "python",
   "nbconvert_exporter": "python",
   "pygments_lexer": "ipython3",
   "version": "3.9.12"
  }
 },
 "nbformat": 4,
 "nbformat_minor": 5
}
