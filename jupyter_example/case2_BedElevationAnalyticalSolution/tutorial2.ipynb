{
 "cells": [
  {
   "cell_type": "markdown",
   "id": "b1293925",
   "metadata": {},
   "source": [
    "<a href=\"http://landlab.github.io\"><img style=\"float: left\" src=\"https://raw.githubusercontent.com/landlab/tutorials/release/landlab_header.png\"></a>"
   ]
  },
  {
   "cell_type": "markdown",
   "id": "f372b8b9",
   "metadata": {},
   "source": [
    "# Test comparing deposition and erosion to dell size sensitvity \n",
    "This notebook was created by Sam Anderson, Mikey Sison and Angel Monsalve."
   ]
  },
  {
   "cell_type": "markdown",
   "id": "e538d282",
   "metadata": {},
   "source": [
    "<hr>\n",
    "<small>For tutorials on learning Landlab, click here: <a href=\"https://github.com/landlab/landlab/wiki/Tutorials\">https://github.com/landlab/landlab/wiki/Tutorials</a></small>\n",
    "<hr>"
   ]
  },
  {
   "cell_type": "markdown",
   "id": "29725149",
   "metadata": {},
   "source": [
    "**What is this notebook?**\n",
    "\n",
    "This notebook generates results to compare the behaivor of ... to be completed later \n",
    "\n",
    "To test the ability of our component for predicting changes in the bed surface elevation we obtained an analytical solution for an idealized channel with uniform flow conditions. In this case, a given bed load transport rate is imposed at the upstream boundary such that the bed surface slope must adjust until the channel reaches a stable condition. We combined Manning’s equation to include uniform flow conditions and Meyer-Peter & Müller (1948) to estimate bed load transport rate within the channel. \n",
    "\n",
    "We conducted two tests to evaluate the response of our component. Both cases start with the same initial bed configuration but differ in the imposed upstream sediment supply rate. In general terms, they consist of a 1500 m long, straight channel with an initial bed surface slope of 0.015 m/m, the elevation at the outlet is fixed at 0 m, and the surface roughness is n = 0.03874. Flow discharge is constant Q = 100 m3/s and is specified by using a rainfall intensity of 0.01 m/s acting over a single cell of 100 m per side (∆x=∆y) located at the upstream boundary. The grid consists only of uniformly sized cells. The bed surface GSD is uniform with a grain size of 50 mm and , the bed load transport equation is that of Meyer-Peter & Müller (1948). In OverlandFlow we specified h_init, the initial water depth in all cells, as 1 mm, the time step is limited to a maximum of 5 s, and left all the other variables with are left as their default value. To better manage the interaction of boundary conditions between OverlandFlow and riverBedDynamics we added ghost nodes, one at the downstream and two and the upstream end. These  ghost nodes are used to extend the study reach and help reaching uniform flow conditions once a new stable slope has been reached. The modeled scenarios are a purely aggradation case in which q_b = 0.0087 m2/s and purely degradation case where q_b = 0.0012 m2/s. By applying Eq. 37, the equilibrium slope for both scenarios are 0.025 and 0.010, respectively.\n",
    "\n",
    "We ran each case for 120 days and compared the predicted and analytical bed slopes in both cases at the end of the simulation. We chose 120 days as comparing point because the rate at which the bed elevations were changing were relatively small, 9·10-5 and -4·10-4 m/day in the aggradation and degradation cases, respectively. We considered these rates small enough to be representative of an equilibrium condition. \n",
    "\n",
    "In the aggradation case our LEM predicts an S equal to 0.0251 (percentage error of 0.32 %), the degradation case had an S of 0.0101 (percentage error of 1.439 %). Locally, the major differences between the predicted and analytical bed elevation are found in the upstream region, near where the sediment supply is imposed. The maximum local differences are 0.136 m for the aggradation case and 0.200 m for the degradation scenario (Figure 7). The small percentage error and the general trend of the local surface elevation   (Figure 7) suggests that our component can accurately predict changes in bed elevation. \n",
    "\n",
    "We analyzed the sensitivity of our results to the mesh size in the pure aggradation case by comparing the bed elevation after 120 days of simulation using meshes with half and a quarter of the size of the beforementioned case (Figure 8). By the end of the run the average slope was 0.0251 in all cases. The percentage error was 0.32, 0.31, and 0.29 %   for the 25, 50, and 100 m grid resolution, respectively. Beside the mesh size, the configuration was identical in all cases except for the maximum time step, which was 5 s for the 100 and 50 m cases and 2.5 s for the 25 m run. \n",
    "\n",
    "More background on the model used here and the results presented will be published in the future and the citation will be added here:\n",
    "\n",
    "**TITLE HERE**\n",
    "\n",
    "The code used in this exercise is taken from the above reference.\n",
    "\n"
   ]
  },
  {
   "cell_type": "markdown",
   "id": "56e95825",
   "metadata": {},
   "source": [
    "**Now on to the code.**\n",
    "* Below we import Landlab components, functions for importing data, numpy and plotting tools. You should not need to change this."
   ]
  },
  {
   "cell_type": "code",
   "execution_count": 1,
   "id": "9ec082fa",
   "metadata": {},
   "outputs": [],
   "source": [
    "## Code Block 1\n",
    "\n",
    "%reset -f\n",
    "import numpy as np\n",
    "import pandas as pd\n",
    "import copy\n",
    "from matplotlib import pyplot as plt\n",
    "from landlab.components import OverlandFlowSpatiallyVariableInputs, RiverBedDynamics\n",
    "from landlab.io import read_esri_ascii\n",
    "from landlab import imshow_grid\n"
   ]
  },
  {
   "cell_type": "markdown",
   "id": "282e26c9",
   "metadata": {},
   "source": [
    "Now we import the elevation data (DEM), as well as grain size distribution (GSD) information. There are three possible DEM's which can be used, the default 'bedElevationDEM.asc' for the cases of either erosion or depostion, and either 'bedElevationDEM50mMesh.asc' or 'bedElevationDEM25mMesh.asc' where mesh size is half or a quater of the size of the default, respectively."
   ]
  },
  {
   "cell_type": "code",
   "execution_count": 2,
   "id": "f049d837",
   "metadata": {},
   "outputs": [],
   "source": [
    "## Code Block 2\n",
    "\n",
    "bedElevation =      'bedElevationDEM.asc'     # The other DEMs are 'bedElevationDEM50mMesh.asc' or 'bedElevationDEM25mMesh.asc'\n",
    "(rmg, z) = read_esri_ascii(bedElevation, name='topographic__elevation')\n",
    "\n",
    "gsd = pd.read_excel('bedGSD.xlsx', sheet_name='GSD', skiprows = 0).values   # GSD is same between all examples"
   ]
  },
  {
   "cell_type": "markdown",
   "id": "7b15be65-06c6-4e39-ac09-445bac2066da",
   "metadata": {},
   "source": [
    "And now we imput some model parameters. Note Max_dt can change with different DEM."
   ]
  },
  {
   "cell_type": "code",
   "execution_count": 3,
   "id": "fcc9073e-b539-4605-880b-01c1eb64e214",
   "metadata": {},
   "outputs": [],
   "source": [
    "## Code Block 3\n",
    "\n",
    "dtPrecision = 3         # Avoids rounding errors\n",
    "max_dt = 5              # Change to 2.5 if using the 25m mesh \n",
    "tPlot = 950400          # Plots will be obtained every this seconds **THIS VALUE WAS CHANGED FROM THE ORIGINAL**\n",
    "storeData = 86400       # Stores results every this time\n",
    "tmax = 121*86400        # Maximum simulation time\n",
    "n = 0.03874             # Manning's n "
   ]
  },
  {
   "cell_type": "markdown",
   "id": "07db55dc-29b0-4037-975f-259c5a004a36",
   "metadata": {},
   "source": [
    "Here, we specify some important locations (links and nodes) where we take data from and where we specify where sediment is coming from. Note: These values can change with different DEMs."
   ]
  },
  {
   "cell_type": "code",
   "execution_count": 4,
   "id": "cdf8ed7b-a4f9-439f-aa57-cc3ca0906472",
   "metadata": {},
   "outputs": [],
   "source": [
    "## Code Block 4\n",
    "\n",
    "# Flow, bed, and upstream simulation conditions \n",
    "upstreamSedSupply = -0.0012         # bedload rate at inlet\n",
    "\n",
    "# Link Id in which sediment supply and discharge enters\n",
    "link_Inlet = np.array([83])\n",
    "\n",
    "# Node Id where Water depth is specified\n",
    "Node_Inlet = np.array([52])\n",
    "\n",
    "# Node ID for fixed Nodes\n",
    "fixedNodesId = np.array((1,4))"
   ]
  },
  {
   "cell_type": "markdown",
   "id": "648c6cb9-15ed-4cd4-a8f9-ac66e9dccc36",
   "metadata": {},
   "source": [
    "Here, we create some necessary topographic variables. "
   ]
  },
  {
   "cell_type": "code",
   "execution_count": 5,
   "id": "064bfaa8",
   "metadata": {},
   "outputs": [],
   "source": [
    "## Code Block 5\n",
    "\n",
    "OverlandFlowSpatiallyVariableInputs.input_var_names\n",
    "RiverBedDynamics.input_var_names\n",
    "rmg.add_zeros('bed_surface__roughness', at = 'link')\n",
    "rmg.add_zeros('surface_water__depth', at = 'node')\n",
    "rmg.add_zeros('rainfall__intensity', at = 'node')\n",
    "rmg['node']['bed_surface__grain_size_distribution_location'] = np.zeros_like(z)     \n",
    "rmg['node']['topographic__elevation_original'] = copy.deepcopy(z)                 # Converts precipitation from mm/hr to m/s\n",
    "rmg['node']['bed_surface__grainSizeDistribution_location'] = np.zeros_like(z)     "
   ]
  },
  {
   "cell_type": "markdown",
   "id": "99b1f91f-2d0c-4f83-a6ed-a0f31be7df61",
   "metadata": {},
   "source": [
    "Code block 7 instantiates our updated overland flow component. Note that there are some variables which you can change if using this for your own research."
   ]
  },
  {
   "cell_type": "code",
   "execution_count": 6,
   "id": "15cb86e7",
   "metadata": {},
   "outputs": [],
   "source": [
    "## Code Block 6\n",
    "\n",
    "# Instantiation of components\n",
    "of = OverlandFlowSpatiallyVariableInputs(rmg, dt_max=max_dt,h_init=0.001)\n",
    "rbd = RiverBedDynamics(rmg , gsd = gsd, variableCriticalShearStress = True, outletBoundaryCondition='fixedValue')"
   ]
  },
  {
   "cell_type": "markdown",
   "id": "784d9b05-261e-49ef-a430-9232e046e91c",
   "metadata": {},
   "source": [
    "The code block below specifies boundry conditions. Here, all the boundries are \"closed\", and there is an open outlet, you may consider changing boundry conditions if using our updated overland flow component for your own research. See (https://notebook.community/landlab/landlab/notebooks/tutorials/boundary_conds/set_BCs_on_raster_perimeter) for background on boundry conditions."
   ]
  },
  {
   "cell_type": "code",
   "execution_count": 7,
   "id": "50b4da56",
   "metadata": {},
   "outputs": [],
   "source": [
    "## Code Block 7\n",
    "\n",
    "rmg.set_watershed_boundary_condition(z) "
   ]
  },
  {
   "cell_type": "markdown",
   "id": "f7f2a6bf-06d1-47c7-b45b-55c0c4286fbb",
   "metadata": {},
   "source": [
    "Code block 7 creates some fixed nodes, and specifies a fixed water and sediment flux at those nodes. This could be used, in some other research, to mimic a situation when modeling a stream that has a base flow and sediment flux. "
   ]
  },
  {
   "cell_type": "code",
   "execution_count": 8,
   "id": "9e40e80e",
   "metadata": {},
   "outputs": [],
   "source": [
    "## Code Block 8\n",
    "\n",
    "# Creates the fixed nodes information\n",
    "fixedNodes = np.zeros_like(z)   # fixedNodes defines as 1 if a node is fixed or 0 if it can vary in elevation\n",
    "fixedNodes[fixedNodesId] = 1\n",
    "rmg['node']['bed_surface__fixedElevation'] = fixedNodes                         # Assigns fixed locations to landlab grid \n",
    "\n",
    "# Create bed and flow initial condition\n",
    "rmg['link']['bed_surface__roughness'] = np.zeros(rmg.number_of_links) + n       # n is Manning's roughness coefficient\n",
    "rmg['node']['rainfall__intensity'][Node_Inlet] = 0.01                           # Precipitation in m/s\n",
    "rmg['link']['sediment_transport__imposed_sediment_supply'][link_Inlet] = upstreamSedSupply\n"
   ]
  },
  {
   "cell_type": "markdown",
   "id": "5aa92364-3147-419e-b714-01c96e067c59",
   "metadata": {},
   "source": [
    "This calculates elevation for specific nodes of interest. This is useful for plotting figures."
   ]
  },
  {
   "cell_type": "code",
   "execution_count": 9,
   "id": "401e083c",
   "metadata": {},
   "outputs": [],
   "source": [
    "## Code Block 9\n",
    "\n",
    "calcNodesId = np.arange(51,57)\n",
    "nCols = rmg.number_of_node_columns\n",
    "nRowsCalcNodes = int(calcNodesId.shape[0]/nCols)\n",
    "calcNodesId = np.reshape(calcNodesId,(nRowsCalcNodes,nCols))"
   ]
  },
  {
   "cell_type": "markdown",
   "id": "e3a42a57-6c7a-4023-a588-c01db0f0f4fa",
   "metadata": {},
   "source": [
    "The following code block defines variables needed to store data. This will come in handy when plotting changes over time. "
   ]
  },
  {
   "cell_type": "code",
   "execution_count": 10,
   "id": "3f60afb2",
   "metadata": {},
   "outputs": [],
   "source": [
    "## Code Block 10\n",
    "\n",
    "t = 0                                   # Initializates the variable\n",
    "storeNow = True\n",
    "plotNow = True                          # Used to save the plot at time zero\n",
    "check_tmax = True\n",
    "tPlotOrg=copy.deepcopy(tPlot)           # A copy of tPlot\n",
    "storeDataOrg=copy.deepcopy(storeData)   # A copy of tPlot"
   ]
  },
  {
   "cell_type": "markdown",
   "id": "5be74f20-f7bd-448e-8e9d-3c9a1c1db591",
   "metadata": {},
   "source": [
    "Here we run the code. This code block will take some time to run, so allow the code the time to do so before moving on. It will run up until tmax, which is defined in code block 3. "
   ]
  },
  {
   "cell_type": "code",
   "execution_count": 11,
   "id": "75b3e6a5",
   "metadata": {},
   "outputs": [
    {
     "name": "stdout",
     "output_type": "stream",
     "text": [
      "Storing results at time : 0  s\n",
      "Upstream sediment supply : -0.0012  m2/s\n",
      "Elapsed time : 0  s. Current dt = 5.0 . Adaptive time = 706.9  s - Saving plot\n",
      "Storing results at time : 86400.0  s\n",
      "Upstream sediment supply : -0.0012  m2/s\n",
      "Storing results at time : 172800.0  s\n",
      "Upstream sediment supply : -0.0012  m2/s\n"
     ]
    },
    {
     "ename": "KeyboardInterrupt",
     "evalue": "",
     "output_type": "error",
     "traceback": [
      "\u001b[1;31m---------------------------------------------------------------------------\u001b[0m",
      "\u001b[1;31mKeyboardInterrupt\u001b[0m                         Traceback (most recent call last)",
      "Input \u001b[1;32mIn [11]\u001b[0m, in \u001b[0;36m<cell line: 3>\u001b[1;34m()\u001b[0m\n\u001b[0;32m      1\u001b[0m \u001b[38;5;66;03m## Code Block 11\u001b[39;00m\n\u001b[0;32m      3\u001b[0m \u001b[38;5;28;01mwhile\u001b[39;00m t \u001b[38;5;241m<\u001b[39m tmax:\n\u001b[1;32m----> 5\u001b[0m     \u001b[43mof\u001b[49m\u001b[38;5;241;43m.\u001b[39;49m\u001b[43moverland_flow\u001b[49m\u001b[43m(\u001b[49m\u001b[43m)\u001b[49m  \u001b[38;5;66;03m# Runs overland flow for one time step\u001b[39;00m\n\u001b[0;32m      6\u001b[0m     rbd\u001b[38;5;241m.\u001b[39mrun_one_step()  \u001b[38;5;66;03m# Runs riverBedDynamics for one time step\u001b[39;00m\n\u001b[0;32m      8\u001b[0m     \u001b[38;5;66;03m# Gradient preserved at upstream ghost cells\u001b[39;00m\n",
      "File \u001b[1;32m~\\anaconda3\\lib\\site-packages\\landlab\\components\\overland_flow\\generate_overland_flow_spatially_variable_inputs.py:696\u001b[0m, in \u001b[0;36mOverlandFlowSpatiallyVariableInputs.overland_flow\u001b[1;34m(self, dt)\u001b[0m\n\u001b[0;32m    692\u001b[0m \u001b[38;5;28mself\u001b[39m\u001b[38;5;241m.\u001b[39m_h_links[\u001b[38;5;28mself\u001b[39m\u001b[38;5;241m.\u001b[39m_active_links] \u001b[38;5;241m=\u001b[39m hflow\n\u001b[0;32m    694\u001b[0m \u001b[38;5;66;03m# Now we calculate the slope of the water surface elevation at\u001b[39;00m\n\u001b[0;32m    695\u001b[0m \u001b[38;5;66;03m# active links\u001b[39;00m\n\u001b[1;32m--> 696\u001b[0m \u001b[38;5;28mself\u001b[39m\u001b[38;5;241m.\u001b[39m_surface_water__gradient \u001b[38;5;241m=\u001b[39m \u001b[38;5;28;43mself\u001b[39;49m\u001b[38;5;241;43m.\u001b[39;49m\u001b[43m_grid\u001b[49m\u001b[38;5;241;43m.\u001b[39;49m\u001b[43mcalc_grad_at_link\u001b[49m\u001b[43m(\u001b[49m\u001b[43mw\u001b[49m\u001b[43m)\u001b[49m[\n\u001b[0;32m    697\u001b[0m     \u001b[38;5;28mself\u001b[39m\u001b[38;5;241m.\u001b[39m_grid\u001b[38;5;241m.\u001b[39mactive_links\n\u001b[0;32m    698\u001b[0m ]\n\u001b[0;32m    700\u001b[0m \u001b[38;5;66;03m# And insert these values into an array of all links\u001b[39;00m\n\u001b[0;32m    701\u001b[0m \u001b[38;5;28mself\u001b[39m\u001b[38;5;241m.\u001b[39m_water_surface_slope[\n\u001b[0;32m    702\u001b[0m     \u001b[38;5;28mself\u001b[39m\u001b[38;5;241m.\u001b[39m_active_links\n\u001b[0;32m    703\u001b[0m ] \u001b[38;5;241m=\u001b[39m \u001b[38;5;28mself\u001b[39m\u001b[38;5;241m.\u001b[39m_surface_water__gradient\n",
      "File \u001b[1;32m~\\anaconda3\\lib\\site-packages\\landlab\\utils\\decorators.py:226\u001b[0m, in \u001b[0;36muse_field_name_or_array.__call__.<locals>._wrapped\u001b[1;34m(grid, vals, *args, **kwds)\u001b[0m\n\u001b[0;32m    223\u001b[0m \u001b[38;5;28;01melse\u001b[39;00m:\n\u001b[0;32m    224\u001b[0m     vals \u001b[38;5;241m=\u001b[39m np\u001b[38;5;241m.\u001b[39masarray(vals)\u001b[38;5;241m.\u001b[39mflatten()\n\u001b[1;32m--> 226\u001b[0m \u001b[38;5;28;01mreturn\u001b[39;00m func(grid, vals, \u001b[38;5;241m*\u001b[39margs, \u001b[38;5;241m*\u001b[39m\u001b[38;5;241m*\u001b[39mkwds)\n",
      "File \u001b[1;32m~\\anaconda3\\lib\\site-packages\\landlab\\grid\\raster_gradients.py:228\u001b[0m, in \u001b[0;36mcalc_grad_at_link\u001b[1;34m(grid, node_values, out)\u001b[0m\n\u001b[0;32m    184\u001b[0m \u001b[38;5;129m@use_field_name_or_array\u001b[39m(\u001b[38;5;124m\"\u001b[39m\u001b[38;5;124mnode\u001b[39m\u001b[38;5;124m\"\u001b[39m)\n\u001b[0;32m    185\u001b[0m \u001b[38;5;28;01mdef\u001b[39;00m \u001b[38;5;21mcalc_grad_at_link\u001b[39m(grid, node_values, out\u001b[38;5;241m=\u001b[39m\u001b[38;5;28;01mNone\u001b[39;00m):\n\u001b[0;32m    186\u001b[0m     \u001b[38;5;124;03m\"\"\"Calculate gradients in node_values at links.\u001b[39;00m\n\u001b[0;32m    187\u001b[0m \n\u001b[0;32m    188\u001b[0m \u001b[38;5;124;03m    Parameters\u001b[39;00m\n\u001b[1;32m   (...)\u001b[0m\n\u001b[0;32m    226\u001b[0m \u001b[38;5;124;03m    LLCATS: LINF GRAD\u001b[39;00m\n\u001b[0;32m    227\u001b[0m \u001b[38;5;124;03m    \"\"\"\u001b[39;00m\n\u001b[1;32m--> 228\u001b[0m     grads \u001b[38;5;241m=\u001b[39m \u001b[43mgradients\u001b[49m\u001b[38;5;241;43m.\u001b[39;49m\u001b[43mcalc_diff_at_link\u001b[49m\u001b[43m(\u001b[49m\u001b[43mgrid\u001b[49m\u001b[43m,\u001b[49m\u001b[43m \u001b[49m\u001b[43mnode_values\u001b[49m\u001b[43m,\u001b[49m\u001b[43m \u001b[49m\u001b[43mout\u001b[49m\u001b[38;5;241;43m=\u001b[39;49m\u001b[43mout\u001b[49m\u001b[43m)\u001b[49m\n\u001b[0;32m    229\u001b[0m     grads \u001b[38;5;241m/\u001b[39m\u001b[38;5;241m=\u001b[39m grid\u001b[38;5;241m.\u001b[39mlength_of_link[: grid\u001b[38;5;241m.\u001b[39mnumber_of_links]\n\u001b[0;32m    230\u001b[0m     \u001b[38;5;28;01mreturn\u001b[39;00m grads\n",
      "File \u001b[1;32m~\\anaconda3\\lib\\site-packages\\landlab\\utils\\decorators.py:226\u001b[0m, in \u001b[0;36muse_field_name_or_array.__call__.<locals>._wrapped\u001b[1;34m(grid, vals, *args, **kwds)\u001b[0m\n\u001b[0;32m    223\u001b[0m \u001b[38;5;28;01melse\u001b[39;00m:\n\u001b[0;32m    224\u001b[0m     vals \u001b[38;5;241m=\u001b[39m np\u001b[38;5;241m.\u001b[39masarray(vals)\u001b[38;5;241m.\u001b[39mflatten()\n\u001b[1;32m--> 226\u001b[0m \u001b[38;5;28;01mreturn\u001b[39;00m func(grid, vals, \u001b[38;5;241m*\u001b[39margs, \u001b[38;5;241m*\u001b[39m\u001b[38;5;241m*\u001b[39mkwds)\n",
      "File \u001b[1;32m~\\anaconda3\\lib\\site-packages\\landlab\\grid\\gradients.py:108\u001b[0m, in \u001b[0;36mcalc_diff_at_link\u001b[1;34m(grid, node_values, out)\u001b[0m\n\u001b[0;32m    105\u001b[0m     out \u001b[38;5;241m=\u001b[39m grid\u001b[38;5;241m.\u001b[39mempty(at\u001b[38;5;241m=\u001b[39m\u001b[38;5;124m\"\u001b[39m\u001b[38;5;124mlink\u001b[39m\u001b[38;5;124m\"\u001b[39m)\n\u001b[0;32m    106\u001b[0m node_values \u001b[38;5;241m=\u001b[39m np\u001b[38;5;241m.\u001b[39masarray(node_values)\n\u001b[0;32m    107\u001b[0m \u001b[38;5;28;01mreturn\u001b[39;00m np\u001b[38;5;241m.\u001b[39msubtract(\n\u001b[1;32m--> 108\u001b[0m     \u001b[43mnode_values\u001b[49m\u001b[43m[\u001b[49m\u001b[43mgrid\u001b[49m\u001b[38;5;241;43m.\u001b[39;49m\u001b[43mnode_at_link_head\u001b[49m\u001b[43m]\u001b[49m,\n\u001b[0;32m    109\u001b[0m     node_values[grid\u001b[38;5;241m.\u001b[39mnode_at_link_tail],\n\u001b[0;32m    110\u001b[0m     out\u001b[38;5;241m=\u001b[39mout,\n\u001b[0;32m    111\u001b[0m )\n",
      "\u001b[1;31mKeyboardInterrupt\u001b[0m: "
     ]
    }
   ],
   "source": [
    "## Code Block 11\n",
    "\n",
    "while t < tmax:\n",
    "    \n",
    "    of.overland_flow()  # Runs overland flow for one time step\n",
    "    rbd.run_one_step()  # Runs riverBedDynamics for one time step\n",
    "    \n",
    "    # Gradient preserved at upstream ghost cells\n",
    "    dsNodesId = np.array(calcNodesId[0,1]-np.arange(1,3)*nCols)\n",
    "    z = rmg['node']['topographic__elevation']\n",
    "    bedSlope = (z[dsNodesId[0]] - z[dsNodesId[1]]) / rmg.dx\n",
    "    \n",
    "    for i in np.arange(0,calcNodesId.shape[0]):\n",
    "        rmg['node']['topographic__elevation'][calcNodesId[i,1:nCols-1]] = z[calcNodesId[i,1:nCols-1] - 2*nCols] + 2 * rmg.dx * bedSlope\n",
    "        \n",
    "    ## Stores results\n",
    "    storeData = round(storeData-of.dt, dtPrecision)\n",
    "    if (storeData <=0) or storeNow:\n",
    "        print('Storing results at time :',np.round(t,1),' s')\n",
    "        print('Upstream sediment supply :',upstreamSedSupply,' m2/s')\n",
    "        data = np.reshape(np.hstack([t,(np.abs(of._q * rmg.dx).T)]),[1,rmg.number_of_links+1])\n",
    "        with open(\"output0_links_surface_water__discharge.txt\", \"ab\") as f:\n",
    "            np.savetxt(f, data,'%.3f')\n",
    "        data = np.reshape(np.hstack([t,(of._h.T)]),[1,rmg.number_of_nodes+1])\n",
    "        with open(\"output1_node_surface_water__depth.txt\", \"ab\") as f:\n",
    "            np.savetxt(f, data,'%.3f')      \n",
    "        data = np.reshape(np.hstack([t,np.abs(rbd._tau.T)]),[1,rmg.number_of_links+1])\n",
    "        with open(\"output2_link_surface_water__shearStress.txt\", \"ab\") as f:\n",
    "            np.savetxt(f, data,'%.3f')   \n",
    "        data = np.reshape(np.hstack([t,rmg.at_node[\"topographic__elevation\"].T]),[1,rmg.number_of_nodes+1])\n",
    "        with open(\"output3_node_topographic__elevation.txt\", \"ab\") as f:\n",
    "            np.savetxt(f, data,'%.3f') \n",
    "        data = np.reshape(np.hstack([t,rmg.at_node[\"bed_surface__medianSize\"].T]),[1,rmg.number_of_nodes+1])\n",
    "        with open(\"output4_node_bed_surface__medianSize.txt\", \"ab\") as f:\n",
    "            np.savetxt(f, data,'%.3f')\n",
    "        data = np.reshape(np.hstack([t,rmg.at_link['sediment_transport__bedloadRate'].T]),[1,rmg.number_of_links+1])\n",
    "        with open(\"output5_links_sediment_transport__bedloadRate.txt\", \"ab\") as f:\n",
    "            np.savetxt(f, data,'%.5f')  \n",
    "        storeData = round(storeDataOrg, dtPrecision)\n",
    "        storeNow = False\n",
    "\n",
    "    tPlot = round(tPlot-of.dt, dtPrecision)\n",
    "    if tPlot <= 0  or plotNow:\n",
    "        print('Elapsed time :',np.round(t,1),' s. Current dt =',\\\n",
    "              np.round(of.dt,1),'. Adaptive time =',np.round(of._adaptive_dt,1),' s - Saving plot')\n",
    "        \n",
    "        # Water depth plot\n",
    "        plot_name='Surface water depth [m] at ' + str(np.round(t,0)) + ' sec'\n",
    "        imshow_grid(rmg, 'surface_water__depth',cmap='Blues',vmin=0,vmax=0.5,plot_name=plot_name)\n",
    "        output='depth_'+str(np.round(t,0))+'.png'\n",
    "        plt.savefig(output,dpi=300); plt.close()  \n",
    "        \n",
    "        #Bed surface variation plot\n",
    "        plot_name='Bed surface elevation variation [m] at ' + str(np.round(t,0)) + ' sec'\n",
    "        ZVar = rmg.at_node[\"topographic__elevation\"] - rmg.at_node['topographic__elevation_original'] \n",
    "        imshow_grid(rmg, ZVar,cmap='RdGy',vmin=0,vmax=25,plot_name=plot_name)\n",
    "        output='topographicVariation_'+str(np.round(t,0))+'.png'\n",
    "        plt.savefig(output,dpi=300); plt.close()    \n",
    "\n",
    "        plotNow = False\n",
    "        tPlot = tPlotOrg\n",
    "\n",
    "    # Updating t\n",
    "    if (t + of.dt > tmax) and check_tmax:\n",
    "        of.dt = tmax - t\n",
    "        t = tmax\n",
    "        storeDataNow = True  \n",
    "        plotNow = True\n",
    "        check_tmax = False\n",
    "    else:\n",
    "        t = round(t + of.dt, dtPrecision)"
   ]
  },
  {
   "cell_type": "markdown",
   "id": "4eff251d-5b86-46d9-b570-2837bc800539",
   "metadata": {},
   "source": [
    "Figure 7: Changes in bed surface elevation for a case of a) pure aggradation and b) pure degradation. The analytical solution corresponds to the equilibrium slope given by Eq. 37. Only one point or elevation per cell was used for plotting. The small differences in bed elevation after 40 and 120 days indicate that the systems are achieving an equilibrium state."
   ]
  },
  {
   "cell_type": "code",
   "execution_count": null,
   "id": "210e8007",
   "metadata": {},
   "outputs": [],
   "source": []
  },
  {
   "cell_type": "code",
   "execution_count": null,
   "id": "6b2f0079",
   "metadata": {},
   "outputs": [],
   "source": []
  },
  {
   "cell_type": "code",
   "execution_count": null,
   "id": "beb4df5f",
   "metadata": {},
   "outputs": [],
   "source": []
  }
 ],
 "metadata": {
  "kernelspec": {
   "display_name": "Python 3 (ipykernel)",
   "language": "python",
   "name": "python3"
  },
  "language_info": {
   "codemirror_mode": {
    "name": "ipython",
    "version": 3
   },
   "file_extension": ".py",
   "mimetype": "text/x-python",
   "name": "python",
   "nbconvert_exporter": "python",
   "pygments_lexer": "ipython3",
   "version": "3.9.12"
  }
 },
 "nbformat": 4,
 "nbformat_minor": 5
}
