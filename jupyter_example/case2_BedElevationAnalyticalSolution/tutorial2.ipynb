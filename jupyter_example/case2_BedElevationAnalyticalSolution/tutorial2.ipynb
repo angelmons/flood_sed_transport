{
 "cells": [
  {
   "cell_type": "markdown",
   "id": "06e3fc30",
   "metadata": {},
   "source": [
    "<a href=\"http://landlab.github.io\"><img style=\"float: left\" src=\"https://raw.githubusercontent.com/landlab/tutorials/release/landlab_header.png\"></a>"
   ]
  },
  {
   "cell_type": "markdown",
   "id": "a53d809c",
   "metadata": {},
   "source": [
    "# Test comparing the original OverlandFlow Landlab component to our updated version of OverlandFlow\n",
    "This notebook was created by Sam Anderson, Mikey Sison and Angel Monsalve."
   ]
  },
  {
   "cell_type": "markdown",
   "id": "9ce85b6c",
   "metadata": {},
   "source": [
    "<hr>\n",
    "<small>For tutorials on learning Landlab, click here: <a href=\"https://github.com/landlab/landlab/wiki/Tutorials\">https://github.com/landlab/landlab/wiki/Tutorials</a></small>\n",
    "<hr>"
   ]
  },
  {
   "cell_type": "markdown",
   "id": "60ddd8cc",
   "metadata": {},
   "source": [
    "**What is this notebook?**\n",
    "\n",
    "This notebook generates results to compare the behaivor of the overland flow model presented by Adams et al. (2017) to the updated version used here to eventually couple with a sediment transport component. \n",
    "\n",
    "Our version of OverlandFlow was tested using the analytical solution for wave propagation on a flat surface case as first presented by Adams et al. (2017) and originally developed by Bates et al. (2010) and Hunter et al. (2005).\n",
    "The idea of this test is to check if our version behaves in the same manner thand as the original OverlandFlow does under unsteady flow conditions. Our simulations were conducted in a flat domain of 6000 m long (x direction) \n",
    "and 800 m high (y direction) in which we used three different uniform grid configurations (∆x=∆y) with spacings of ∆x=5, 10, and 50 m. At the beginning of the simulation the domain was filled with a thin film of water of 1 mm. \n",
    "A uniform roughness coefficient was used (n=0.03). Boundary conditions at the top, right, and bottom edges of the domain were set to closed. Flow enters through the left edge (x=0 m) with a constant velocity of u=1 m/s and v=0 \n",
    "m/s and water depth changes in time according to h(x,t)=h(0,t)=(7⁄3 n^2 u^3 t)^(3⁄7). \n",
    "\n",
    "After 3600 s of simulation we obtained identical results to those presented by Adams et al. (2017), indicating that our modifications to OverlandFlow do not affect the core of the flow solver (Figure 6). A detailed validation\n",
    "is out of the scope our test and analysis but for more details on the validation the reader is referred to Adams et al. (2017).\n",
    "\n",
    "More background on the model used here and the results presented will be published in the future and the citation will be added here:\n",
    "\n",
    "**TITLE HERE**\n",
    "\n",
    "The code used in this exercise is taken from the above reference.\n",
    "\n"
   ]
  },
  {
   "cell_type": "markdown",
   "id": "38c2f005",
   "metadata": {},
   "source": [
    "**Now on to the code.**\n",
    "* Below we import Landlab components, functions for importing data, numpy and plotting tools. You should not need to change this."
   ]
  },
  {
   "cell_type": "code",
   "execution_count": null,
   "id": "bf8367cf",
   "metadata": {},
   "outputs": [],
   "source": [
    "## Code Block 1\n",
    "\n",
    "%reset -f\n",
    "import numpy as np\n",
    "import pandas as pd\n",
    "import copy\n",
    "from matplotlib import pyplot as plt\n",
    "from landlab.components import OverlandFlowSpatiallyVariableInputs, RiverBedDynamics\n",
    "from landlab.io import read_esri_ascii\n",
    "from landlab import imshow_grid\n"
   ]
  },
  {
   "cell_type": "markdown",
   "id": "e46fbbff",
   "metadata": {},
   "source": [
    "Now we import the data for the watershed we want to route flow on, as well as some model parameters "
   ]
  },
  {
   "cell_type": "code",
   "execution_count": null,
   "id": "52168073",
   "metadata": {},
   "outputs": [],
   "source": [
    "## Code Block 2\n",
    "\n",
    "bedElevation =      'bedElevationDEM.asc'         # ASCII raster DEM containing the bed surface elevation\n",
    "#bedElevation =      'bedElevationDEM.asc'         # ASCII raster DEM containing the bed surface elevation, uncomment for aggradation \n",
    "\n",
    "gsd = pd.read_excel('bedGSD.xlsx',sheet_name='GSD',skiprows=0).values\n",
    "\n",
    "dtPrecision = 3         # Avoids rounding errors\n",
    "max_dt = 5              # Overland flow will use the min time step between this value and the automatically calculated. Use seconds.\n",
    "tPlot = 950400          # Plots will be obtained every this seconds **THIS VALUE WAS CHANGED FROM THE ORIGINAL**\n",
    "storeData = 86400      # Stores results every this time\n",
    "tmax = 121*86400          # Maximum simulation time\n",
    "\n",
    "# Flow, bed, and upstream simulation conditions \n",
    "n = 0.03874                         # Manning's n 0.038577\n",
    "upstreamSedSupply = -0.0012         # bedload rate at inlet\n",
    "\n",
    "# Link Id in which sediment supply and discharge enters\n",
    "link_Inlet = np.array([83])\n",
    "\n",
    "# Node Id in Water depth is specified\n",
    "Node_Inlet = np.array([52])\n",
    "\n",
    "# Node ID for fixed Nodes\n",
    "fixedNodesId = np.array((1,4))"
   ]
  },
  {
   "cell_type": "code",
   "execution_count": null,
   "id": "e7e29ece",
   "metadata": {},
   "outputs": [],
   "source": [
    "## Code Block 3\n",
    "\n",
    "# Creates fields and instantiate the component\n",
    "OverlandFlowSpatiallyVariableInputs.input_var_names\n",
    "RiverBedDynamics.input_var_names\n",
    "(rmg, z) = read_esri_ascii(bedElevation, name='topographic__elevation')\n",
    "rmg.add_zeros('bed_surface__roughness', at = 'link')\n",
    "rmg.add_zeros('surface_water__depth', at = 'node')\n",
    "rmg.add_zeros('rainfall__intensity', at = 'node')\n",
    "rmg['node']['bed_surface__grain_size_distribution_location'] = np.zeros_like(z)     \n",
    "rmg['node']['topographic__elevation_original'] = copy.deepcopy(z)               # Converts precipitation from mm/hr to m/s\n",
    "rmg['node']['bed_surface__grainSizeDistribution_location'] = np.zeros_like(z)     "
   ]
  },
  {
   "cell_type": "code",
   "execution_count": null,
   "id": "a0f7a36e",
   "metadata": {},
   "outputs": [],
   "source": [
    "## Code Block 4\n",
    "\n",
    "# Instantiation of components\n",
    "of = OverlandFlowSpatiallyVariableInputs(rmg, dt_max=max_dt,h_init=0.001)\n",
    "rbd = RiverBedDynamics(rmg , gsd = gsd, variableCriticalShearStress = True, outletBoundaryCondition='fixedValue')"
   ]
  },
  {
   "cell_type": "code",
   "execution_count": null,
   "id": "14cd0965",
   "metadata": {},
   "outputs": [],
   "source": [
    "## Code Block 6\n",
    "\n",
    "# Set boundaries as closed boundaries, the outlet is set to an open boundary. \n",
    "rmg.set_watershed_boundary_condition(z) \n"
   ]
  },
  {
   "cell_type": "code",
   "execution_count": null,
   "id": "a9a4e8a0",
   "metadata": {},
   "outputs": [],
   "source": [
    "## Code Block 7\n",
    "\n",
    "# Creates the fixed nodes information\n",
    "fixedNodes = np.zeros_like(z)   # fixedNodes defines as 1 if a node is fixed or 0 if it can vary in elevation\n",
    "fixedNodes[fixedNodesId] = 1\n",
    "rmg['node']['bed_surface__fixedElevation'] = fixedNodes                         # Assigns fixed locations to landlab grid \n",
    "\n",
    "# Create bed and flow initial condition\n",
    "rmg['link']['bed_surface__roughness'] = np.zeros(rmg.number_of_links) + n       # n is Manning's roughness coefficient\n",
    "rmg['node']['rainfall__intensity'][Node_Inlet] = 0.01                           # Precipitation in m/s\n",
    "rmg['link']['sediment_transport__imposed_sediment_supply'][link_Inlet] = upstreamSedSupply\n"
   ]
  },
  {
   "cell_type": "code",
   "execution_count": null,
   "id": "f654ce5d",
   "metadata": {},
   "outputs": [],
   "source": [
    "## Code Block 8\n",
    "\n",
    "# Node ID for calculated node elevation\n",
    "calcNodesId = np.arange(51,57)\n",
    "nCols = rmg.number_of_node_columns\n",
    "nRowsCalcNodes = int(calcNodesId.shape[0]/nCols)\n",
    "calcNodesId = np.reshape(calcNodesId,(nRowsCalcNodes,nCols))"
   ]
  },
  {
   "cell_type": "code",
   "execution_count": null,
   "id": "d671d64f",
   "metadata": {},
   "outputs": [],
   "source": [
    "## Code Block 9\n",
    "\n",
    "\"\"\" Defines some variables to store data \"\"\"\n",
    "t = 0                                   # Initializates the variable\n",
    "storeNow = True\n",
    "plotNow = True                          # Used to save the plot at time zero\n",
    "check_tmax = True\n",
    "tPlotOrg=copy.deepcopy(tPlot)           # A copy of tPlot\n",
    "storeDataOrg=copy.deepcopy(storeData)   # A copy of tPlot"
   ]
  },
  {
   "cell_type": "code",
   "execution_count": null,
   "id": "e2962110",
   "metadata": {},
   "outputs": [],
   "source": [
    "## Code Block 10\n",
    "\n",
    "while t < tmax:\n",
    "    \n",
    "    of.overland_flow()  # Runs overland flow for one time step\n",
    "    rbd.run_one_step()  # Runs riverBedDynamics for one time step\n",
    "    \n",
    "    # Gradient preserving at upstream ghost cells\n",
    "    dsNodesId = np.array(calcNodesId[0,1]-np.arange(1,3)*nCols)\n",
    "    z = rmg['node']['topographic__elevation']\n",
    "    bedSlope = (z[dsNodesId[0]] - z[dsNodesId[1]]) / rmg.dx\n",
    "    \n",
    "    for i in np.arange(0,calcNodesId.shape[0]):\n",
    "        rmg['node']['topographic__elevation'][calcNodesId[i,1:nCols-1]] = z[calcNodesId[i,1:nCols-1] - 2*nCols] + 2 * rmg.dx * bedSlope\n",
    "        \n",
    "    ## Stores results\n",
    "    storeData = round(storeData-of.dt, dtPrecision)\n",
    "    if (storeData <=0) or storeNow:\n",
    "        print('Storing results at time :',np.round(t,1),' s')\n",
    "        print('Upstream sediment supply :',upstreamSedSupply,' m2/s')\n",
    "        data = np.reshape(np.hstack([t,(np.abs(of._q * rmg.dx).T)]),[1,rmg.number_of_links+1])\n",
    "        with open(\"output0_links_surface_water__discharge.txt\", \"ab\") as f:\n",
    "            np.savetxt(f, data,'%.3f')\n",
    "        data = np.reshape(np.hstack([t,(of._h.T)]),[1,rmg.number_of_nodes+1])\n",
    "        with open(\"output1_node_surface_water__depth.txt\", \"ab\") as f:\n",
    "            np.savetxt(f, data,'%.3f')      \n",
    "        data = np.reshape(np.hstack([t,np.abs(rbd._tau.T)]),[1,rmg.number_of_links+1])\n",
    "        with open(\"output2_link_surface_water__shearStress.txt\", \"ab\") as f:\n",
    "            np.savetxt(f, data,'%.3f')   \n",
    "        data = np.reshape(np.hstack([t,rmg.at_node[\"topographic__elevation\"].T]),[1,rmg.number_of_nodes+1])\n",
    "        with open(\"output3_node_topographic__elevation.txt\", \"ab\") as f:\n",
    "            np.savetxt(f, data,'%.3f') \n",
    "        data = np.reshape(np.hstack([t,rmg.at_node[\"bed_surface__medianSize\"].T]),[1,rmg.number_of_nodes+1])\n",
    "        with open(\"output4_node_bed_surface__medianSize.txt\", \"ab\") as f:\n",
    "            np.savetxt(f, data,'%.3f')\n",
    "        data = np.reshape(np.hstack([t,rmg.at_link['sediment_transport__bedloadRate'].T]),[1,rmg.number_of_links+1])\n",
    "        with open(\"output5_links_sediment_transport__bedloadRate.txt\", \"ab\") as f:\n",
    "            np.savetxt(f, data,'%.5f')  \n",
    "        storeData = round(storeDataOrg, dtPrecision)\n",
    "        storeNow = False\n",
    "\n",
    "    tPlot = round(tPlot-of.dt, dtPrecision)\n",
    "    if tPlot <= 0  or plotNow:\n",
    "        print('Elapsed time :',np.round(t,1),' s. Current dt =',\\\n",
    "              np.round(of.dt,1),'. Adaptive time =',np.round(of._adaptive_dt,1),' s - Saving plot')\n",
    "        \n",
    "        # Water depth plot\n",
    "        plot_name='Surface water depth [m] at ' + str(np.round(t,0)) + ' sec'\n",
    "        imshow_grid(rmg, 'surface_water__depth',cmap='Blues',vmin=0,vmax=0.5,plot_name=plot_name)\n",
    "        output='depth_'+str(np.round(t,0))+'.png'\n",
    "        plt.savefig(output,dpi=300); plt.close()  \n",
    "        \n",
    "        #Bed surface variation plot\n",
    "        plot_name='Bed surface elevation variation [m] at ' + str(np.round(t,0)) + ' sec'\n",
    "        ZVar = rmg.at_node[\"topographic__elevation\"] - rmg.at_node['topographic__elevation_original'] \n",
    "        imshow_grid(rmg, ZVar,cmap='RdGy',vmin=0,vmax=25,plot_name=plot_name)\n",
    "        output='topographicVariation_'+str(np.round(t,0))+'.png'\n",
    "        plt.savefig(output,dpi=300); plt.close()    \n",
    "\n",
    "        plotNow = False\n",
    "        tPlot = tPlotOrg\n",
    "\n",
    "    # Updating t\n",
    "    if (t + of.dt > tmax) and check_tmax:\n",
    "        of.dt = tmax - t\n",
    "        t = tmax\n",
    "        storeDataNow = True  \n",
    "        plotNow = True\n",
    "        check_tmax = False\n",
    "    else:\n",
    "        t = round(t + of.dt, dtPrecision)"
   ]
  },
  {
   "cell_type": "code",
   "execution_count": null,
   "id": "8a2e614d",
   "metadata": {},
   "outputs": [],
   "source": [
    "###\n",
    "\"\"\"\n",
    "\n",
    "THIS IS OLD CODE FROM TUTORIAL ONE, I LEFT IT TO CHANGED LATER TO MAKE SOME NEW PLOTS\n",
    "\n",
    "\n",
    "## Code Block 11\n",
    "\n",
    "# Results\n",
    "## Water depth at the end of the simulation\n",
    "data = np.loadtxt('output1_node_surface_water__depth.txt')\n",
    "nodesToSample = np.arange(rmg.number_of_node_columns+1,2*rmg.number_of_node_columns)\n",
    "x = np.arange(0,(rmg.number_of_node_columns-1)*rmg.dx,rmg.dx)\n",
    "\n",
    "hSample = data[-1,nodesToSample]\n",
    "\n",
    "hAnalytical = np.zeros_like(x)+h_init\n",
    "hAnalytical[np.where(x<u*tmax)] =(-7/3 * (n**2 * u**2 * (x[np.where(x<u*tmax)]-u*tmax)))**(3/7)\n",
    "\n",
    "plt.figure(1)\n",
    "plt.plot(x, hSample, color='mediumblue')\n",
    "plt.plot(x, hAnalytical, color='black')\n",
    "plt.ylabel('Water depth (m)')\n",
    "plt.xlabel('x (x)')\n",
    "plt.ylim(0,2.5)\n",
    "plt.xlim(0,5000)\n",
    "plt.title('Water depth at 3600 s')\n",
    "plt.savefig('WaterDepth.png',dpi=300);plt.close()\n",
    "\"\"\"  "
   ]
  },
  {
   "cell_type": "code",
   "execution_count": null,
   "id": "ae2dd247",
   "metadata": {},
   "outputs": [],
   "source": []
  },
  {
   "cell_type": "code",
   "execution_count": null,
   "id": "a6e8008f",
   "metadata": {},
   "outputs": [],
   "source": []
  }
 ],
 "metadata": {
  "kernelspec": {
   "display_name": "Python 3 (ipykernel)",
   "language": "python",
   "name": "python3"
  },
  "language_info": {
   "codemirror_mode": {
    "name": "ipython",
    "version": 3
   },
   "file_extension": ".py",
   "mimetype": "text/x-python",
   "name": "python",
   "nbconvert_exporter": "python",
   "pygments_lexer": "ipython3",
   "version": "3.9.12"
  }
 },
 "nbformat": 4,
 "nbformat_minor": 5
}
