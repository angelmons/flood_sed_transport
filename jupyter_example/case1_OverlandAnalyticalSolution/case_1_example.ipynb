{
 "cells": [
  {
   "cell_type": "code",
   "execution_count": null,
   "id": "bf8367cf",
   "metadata": {},
   "outputs": [
    {
     "name": "stdout",
     "output_type": "stream",
     "text": [
      "Storing results at time : 0  s\n",
      "Elapsed time : 0  s. Current dt = 7.5 . Adaptive time = 35.3  s - Saving plot\n",
      "Storing results at time : 107.5  s\n",
      "Elapsed time : 107.5  s. Current dt = 1.5 . Adaptive time = 1.5  s - Saving plot\n",
      "Storing results at time : 208.2  s\n",
      "Elapsed time : 208.2  s. Current dt = 1.3 . Adaptive time = 1.3  s - Saving plot\n",
      "Storing results at time : 308.6  s\n",
      "Elapsed time : 308.6  s. Current dt = 1.2 . Adaptive time = 1.2  s - Saving plot\n",
      "Storing results at time : 409.0  s\n",
      "Elapsed time : 409.0  s. Current dt = 1.1 . Adaptive time = 1.1  s - Saving plot\n",
      "Storing results at time : 509.8  s\n",
      "Elapsed time : 509.8  s. Current dt = 1.1 . Adaptive time = 1.1  s - Saving plot\n",
      "Storing results at time : 610.7  s\n",
      "Elapsed time : 610.7  s. Current dt = 1.1 . Adaptive time = 1.1  s - Saving plot\n",
      "Storing results at time : 711.2  s\n",
      "Elapsed time : 711.2  s. Current dt = 1.0 . Adaptive time = 1.0  s - Saving plot\n",
      "Storing results at time : 811.7  s\n",
      "Elapsed time : 811.7  s. Current dt = 1.0 . Adaptive time = 1.0  s - Saving plot\n",
      "Storing results at time : 912.5  s\n",
      "Elapsed time : 912.5  s. Current dt = 1.0 . Adaptive time = 1.0  s - Saving plot\n",
      "Storing results at time : 1012.8  s\n",
      "Elapsed time : 1012.8  s. Current dt = 0.9 . Adaptive time = 0.9  s - Saving plot\n",
      "Storing results at time : 1112.9  s\n",
      "Elapsed time : 1112.9  s. Current dt = 0.9 . Adaptive time = 0.9  s - Saving plot\n",
      "Storing results at time : 1213.0  s\n",
      "Elapsed time : 1213.0  s. Current dt = 0.9 . Adaptive time = 0.9  s - Saving plot\n",
      "Storing results at time : 1313.1  s\n",
      "Elapsed time : 1313.1  s. Current dt = 0.9 . Adaptive time = 0.9  s - Saving plot\n",
      "Storing results at time : 1413.3  s\n",
      "Elapsed time : 1413.3  s. Current dt = 0.9 . Adaptive time = 0.9  s - Saving plot\n",
      "Storing results at time : 1513.8  s\n",
      "Elapsed time : 1513.8  s. Current dt = 0.9 . Adaptive time = 0.9  s - Saving plot\n"
     ]
    }
   ],
   "source": [
    "\"\"\" Loads componesnts and other libraries\"\"\"\n",
    "%reset -f\n",
    "import numpy as np\n",
    "import copy\n",
    "from matplotlib import pyplot as plt\n",
    "from landlab.components import OverlandFlowSpatiallyVariableInputs\n",
    "from landlab.io import read_esri_ascii\n",
    "from landlab import imshow_grid"
   ]
  },
  {
   "cell_type": "code",
   "execution_count": null,
   "id": "52168073",
   "metadata": {},
   "outputs": [],
   "source": [
    "\"\"\" Numerical simulation conditions and time control settings\"\"\"\n",
    "bedElevationDEM = 'bedElevationDEM_dx5.asc'           # ASCII raster DEM containing the bed surface elevation\n",
    "n = 0.03        # Manning's n\n",
    "u = 1.0         # Constant velocity at the left edge flowing in the positive x direction - Boundary condition\n",
    "dtPrecision = 3 # Avoids rounding errors\n",
    "tPlot = 100     # Plots will be obtained every this seconds [s]\n",
    "storeData = 100 # Stores results every this time\n",
    "tmax = 3600     # Maximum simulation time [s]\n",
    "hMax = 3.0      # Maximum h expected - Used only for plots\n",
    "h_init = 0.001  # Initial water depth [m]\n"
   ]
  },
  {
   "cell_type": "code",
   "execution_count": null,
   "id": "0e044f45",
   "metadata": {},
   "outputs": [],
   "source": [
    "\"\"\" Now everything are calculations, no more inputs are required\"\"\"       \n",
    "# what are the variables names requiered by all components used? These lines display the required variables\n",
    "OverlandFlowSpatiallyVariableInputs.input_var_names\n"
   ]
  },
  {
   "cell_type": "code",
   "execution_count": null,
   "id": "e7e29ece",
   "metadata": {},
   "outputs": [],
   "source": [
    "# Reads all rasters containing bed elevation, roughness, GSD location, and Rainfall intensity\n",
    "(rmg, z) = read_esri_ascii(bedElevationDEM, name='topographic__elevation') \n",
    "rmg['link']['bed_surface__roughness'] = np.zeros(rmg.number_of_links) + n\n",
    "rmg['node']['rainfall_intensity'] = np.zeros(rmg.number_of_nodes) "
   ]
  },
  {
   "cell_type": "code",
   "execution_count": null,
   "id": "a0f7a36e",
   "metadata": {},
   "outputs": [],
   "source": [
    "# Creating all topographic, sediment, and flow variables\n",
    "rmg.add_zeros('surface_water__depth', at = 'node')"
   ]
  },
  {
   "cell_type": "code",
   "execution_count": null,
   "id": "14cd0965",
   "metadata": {},
   "outputs": [],
   "source": [
    "\n",
    "# Set boundaries as closed boundaries\n",
    "rmg.set_closed_boundaries_at_grid_edges(True,True,True,True)  \n"
   ]
  },
  {
   "cell_type": "code",
   "execution_count": null,
   "id": "a9a4e8a0",
   "metadata": {},
   "outputs": [],
   "source": [
    "# Instantiation according to Adams et al 2017\n",
    "of = OverlandFlowSpatiallyVariableInputs(rmg, h_init = h_init, steep_slopes = False, theta = 1.0, alpha = 0.7, dt_max = 7.5)"
   ]
  },
  {
   "cell_type": "code",
   "execution_count": null,
   "id": "f654ce5d",
   "metadata": {},
   "outputs": [],
   "source": [
    "# ID for boundary nodes\n",
    "# First we need to generate a list with the west-east nodes ID next to the left edge\n",
    "# For a 120 columns raster these will be 121 241 361 etc..\n",
    "nodesBoundary_Id = np.arange(rmg.number_of_node_columns,rmg.number_of_node_columns*(rmg.number_of_node_rows-1),(rmg.number_of_node_columns))\n"
   ]
  },
  {
   "cell_type": "code",
   "execution_count": null,
   "id": "c6265013",
   "metadata": {},
   "outputs": [],
   "source": [
    "# ID for boundary links\n",
    "# Now we need to generate a list with the west-east links ID at the left edge\n",
    "# For a 120 columns raster these will be 240 479 718 etc..\n",
    "linksBoundary_Id = np.arange((2*rmg.number_of_node_columns)-1,rmg.number_of_links,(2*rmg.number_of_node_columns)-1)\n"
   ]
  },
  {
   "cell_type": "code",
   "execution_count": null,
   "id": "d671d64f",
   "metadata": {},
   "outputs": [],
   "source": [
    "# Defines some variables to store data\n",
    "t = 0                                   # Initializates the variable\n",
    "storeDataNow = True                     # Used to save the plot at time zero and tmax\n",
    "plotNow = True                          # Used to save the plot at time zero and tmax\n",
    "check_tmax = True\n",
    "tPlotOrg=copy.deepcopy(tPlot)           # A copy of tPlot\n",
    "storeDataOrg=copy.deepcopy(storeData)   # A copy of tPlot"
   ]
  },
  {
   "cell_type": "code",
   "execution_count": null,
   "id": "e2962110",
   "metadata": {},
   "outputs": [],
   "source": [
    "while t <= tmax:\n",
    "    \n",
    "    h_boundary = np.max((0.001,(7/3 * n**2 * u**3 * t) ** (3/7)))\n",
    "    q_boundary = u * h_boundary\n",
    "    \n",
    "    # Updates data in the grid\n",
    "    rmg[\"node\"][\"surface_water__depth\"][nodesBoundary_Id] = h_boundary\n",
    "    rmg[\"link\"][\"surface_water__depth\"][linksBoundary_Id] = h_boundary\n",
    "    rmg[\"link\"][\"surface_water__discharge\"][linksBoundary_Id] = q_boundary\n",
    "    of.overland_flow()  # Runs overland flow for one time step\n",
    "    \n",
    "    ## Stores results\n",
    "    storeData = round(storeData-of.dt, dtPrecision)\n",
    "    if (storeData <= 0) or storeDataNow:\n",
    "        print('Storing results at time :',np.round(t,1),' s')      \n",
    "        data = np.reshape(np.hstack([t,(of._h.T)]),[1,rmg.number_of_nodes+1])\n",
    "        with open(\"output1_node_surface_water__depth.txt\", \"ab\") as f:\n",
    "            np.savetxt(f, data,'%.3f')              \n",
    "        storeData = round(storeDataOrg, dtPrecision)\n",
    "        storeDataNow = False\n",
    "\n",
    "    tPlot = round(tPlot-of.dt, dtPrecision)\n",
    "    if tPlot <= 0  or plotNow:\n",
    "        print('Elapsed time :',np.round(t,1),' s. Current dt =',\\\n",
    "              np.round(of.dt,1),'. Adaptive time =',np.round(of._adaptive_dt,1),' s - Saving plot')\n",
    "        \n",
    "        \"\"\" Water depth plot\"\"\"\n",
    "        plot_name='Surface water depth [m] at ' + str(np.round(t,0)) + ' sec'\n",
    "        imshow_grid(rmg, 'surface_water__depth',cmap='Blues',vmin=0,vmax=hMax,plot_name=plot_name)\n",
    "        output='depth_'+str(np.round(t,0))+'.png'\n",
    "        plt.savefig(output,dpi=300); plt.close()   \n",
    "               \n",
    "        plotNow = False\n",
    "        tPlot = tPlotOrg\n",
    "        \n",
    "            ## Updating t\n",
    "    if (t + of.dt > tmax) and check_tmax:\n",
    "        of.dt = tmax - t\n",
    "        t = tmax\n",
    "        storeDataNow = True  \n",
    "        plotNow = True\n",
    "        check_tmax = False\n",
    "    else:\n",
    "        t = round(t + of.dt, dtPrecision)\n",
    "    "
   ]
  },
  {
   "cell_type": "code",
   "execution_count": null,
   "id": "8a2e614d",
   "metadata": {},
   "outputs": [],
   "source": [
    "# Results\n",
    "## Water depth at the end of the simulation\n",
    "data = np.loadtxt('output1_node_surface_water__depth.txt')\n",
    "nodesToSample = np.arange(rmg.number_of_node_columns+1,2*rmg.number_of_node_columns)\n",
    "x = np.arange(0,(rmg.number_of_node_columns-1)*rmg.dx,rmg.dx)\n",
    "\n",
    "hSample = data[-1,nodesToSample]\n",
    "\n",
    "hAnalytical = np.zeros_like(x)+h_init\n",
    "hAnalytical[np.where(x<u*tmax)] =(-7/3 * (n**2 * u**2 * (x[np.where(x<u*tmax)]-u*tmax)))**(3/7)\n",
    "\n",
    "plt.figure(1)\n",
    "plt.plot(x, hSample, color='mediumblue')\n",
    "plt.plot(x, hAnalytical, color='black')\n",
    "plt.ylabel('Water depth (m)')\n",
    "plt.xlabel('x (x)')\n",
    "plt.ylim(0,2.5)\n",
    "plt.xlim(0,5000)\n",
    "plt.title('Water depth at 3600 s')\n",
    "plt.savefig('WaterDepth.png',dpi=300);plt.close()\n"
   ]
  },
  {
   "cell_type": "code",
   "execution_count": null,
   "id": "ae2dd247",
   "metadata": {},
   "outputs": [],
   "source": []
  },
  {
   "cell_type": "code",
   "execution_count": null,
   "id": "a6e8008f",
   "metadata": {},
   "outputs": [],
   "source": []
  }
 ],
 "metadata": {
  "kernelspec": {
   "display_name": "Python 3 (ipykernel)",
   "language": "python",
   "name": "python3"
  },
  "language_info": {
   "codemirror_mode": {
    "name": "ipython",
    "version": 3
   },
   "file_extension": ".py",
   "mimetype": "text/x-python",
   "name": "python",
   "nbconvert_exporter": "python",
   "pygments_lexer": "ipython3",
   "version": "3.9.12"
  }
 },
 "nbformat": 4,
 "nbformat_minor": 5
}
