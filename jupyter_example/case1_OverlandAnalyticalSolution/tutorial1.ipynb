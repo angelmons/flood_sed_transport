{
 "cells": [
  {
   "cell_type": "markdown",
   "id": "06e3fc30",
   "metadata": {},
   "source": [
    "<a href=\"http://landlab.github.io\"><img style=\"float: left\" src=\"https://raw.githubusercontent.com/landlab/tutorials/release/landlab_header.png\"></a>"
   ]
  },
  {
   "cell_type": "markdown",
   "id": "a53d809c",
   "metadata": {},
   "source": [
    "# Test comparing the original OverlandFlow Landlab component to our updated version of OverlandFlow\n",
    "This notebook was created by Sam Anderson, Mikey Sison and Angel Monsalve."
   ]
  },
  {
   "cell_type": "markdown",
   "id": "9ce85b6c",
   "metadata": {},
   "source": [
    "<hr>\n",
    "<small>For tutorials on learning Landlab, click here: <a href=\"https://github.com/landlab/landlab/wiki/Tutorials\">https://github.com/landlab/landlab/wiki/Tutorials</a></small>\n",
    "<hr>"
   ]
  },
  {
   "cell_type": "markdown",
   "id": "60ddd8cc",
   "metadata": {},
   "source": [
    "** What is this notebook? **\n",
    "\n",
    "This notebook generates results to compare the behaivor of the overland flow model presented by Adams et al. (2017) to the updated version used here to eventually couple with a sediment transport component. \n",
    "\n",
    "Our version of OverlandFlow was tested using the analytical solution for wave propagation on a flat surface case as first presented by Adams et al. (2017) and originally developed by Bates et al. (2010) and Hunter et al. (2005).\n",
    "The idea of this test is to check if our version behaves in the same manner thand as the original OverlandFlow does under unsteady flow conditions. Our simulations were conducted in a flat domain of 6000 m long (x direction) \n",
    "and 800 m high (y direction) in which we used three different uniform grid configurations (∆x=∆y) with spacings of ∆x=5, 10, and 50 m. At the beginning of the simulation the domain was filled with a thin film of water of 1 mm. \n",
    "A uniform roughness coefficient was used (n=0.03). Boundary conditions at the top, right, and bottom edges of the domain were set to closed. Flow enters through the left edge (x=0 m) with a constant velocity of u=1 m/s and v=0 \n",
    "m/s and water depth changes in time according to h(x,t)=h(0,t)=(7⁄3 n^2 u^3 t)^(3⁄7). \n",
    "\n",
    "After 3600 s of simulation we obtained identical results to those presented by Adams et al. (2017), indicating that our modifications to OverlandFlow do not affect the core of the flow solver (Figure 6). A detailed validation\n",
    "is out of the scope our test and analysis but for more details on the validation the reader is referred to Adams et al. (2017).\n",
    "\n",
    "More background on the model used here and the results presented will be published in the future and the citation will be added here:\n",
    "\n",
    "**TITLE HERE**\n",
    "\n",
    "The code used in this exercise is taken from the above reference.\n",
    "\n"
   ]
  },
  {
   "cell_type": "markdown",
   "id": "38c2f005",
   "metadata": {},
   "source": [
    "**Now on to the code.**\n",
    "* Below we import Landlab components, functions for importing data, numpy and plotting tools. You should not need to change this."
   ]
  },
  {
   "cell_type": "code",
   "execution_count": 1,
   "id": "bf8367cf",
   "metadata": {},
   "outputs": [],
   "source": [
    "## Code Block 1\n",
    "\n",
    "%reset -f\n",
    "import numpy as np\n",
    "import copy\n",
    "from matplotlib import pyplot as plt\n",
    "from landlab.components import OverlandFlowSpatiallyVariableInputs\n",
    "from landlab.io import read_esri_ascii\n",
    "from landlab import imshow_grid\n",
    "\n"
   ]
  },
  {
   "cell_type": "markdown",
   "id": "e46fbbff",
   "metadata": {},
   "source": [
    "Now we import the data for the watershed we want to route flow on, as well as some model parameters "
   ]
  },
  {
   "cell_type": "code",
   "execution_count": 2,
   "id": "52168073",
   "metadata": {},
   "outputs": [],
   "source": [
    "## Code Block 2\n",
    "\n",
    "bedElevationDEM = 'bedElevationDEM_dx5.asc'           # ASCII raster DEM containing the bed surface elevation\n",
    "n = 0.03        # Manning's n\n",
    "u = 1.0         # Constant velocity at the left edge flowing in the positive x direction - Boundary condition\n",
    "dtPrecision = 3 # Avoids rounding errors\n",
    "tPlot = 3600     # Plots will be obtained every amount of time in seconds specified here #VALUE CHANGED\n",
    "storeData = 600 # Stores results every amount of time in seconds specified here\n",
    "tmax = 3600     # Maximum simulation time [s]\n",
    "hMax = 3.0      # Maximum height (in meters) expected - Used only for plots\n",
    "h_init = 0.001  # Initial water depth in meters.\n"
   ]
  },
  {
   "cell_type": "code",
   "execution_count": 3,
   "id": "e7e29ece",
   "metadata": {},
   "outputs": [],
   "source": [
    "## Code Block 3\n",
    "\n",
    "# Reads all rasters containing bed elevation, roughness, GSD location, and Rainfall intensity\n",
    "(rmg, z) = read_esri_ascii(bedElevationDEM, name='topographic__elevation') \n",
    "rmg['link']['bed_surface__roughness'] = np.zeros(rmg.number_of_links) + n\n",
    "rmg['node']['rainfall_intensity'] = np.zeros(rmg.number_of_nodes) "
   ]
  },
  {
   "cell_type": "code",
   "execution_count": 4,
   "id": "a0f7a36e",
   "metadata": {},
   "outputs": [
    {
     "data": {
      "text/plain": [
       "array([ 0.,  0.,  0., ...,  0.,  0.,  0.])"
      ]
     },
     "execution_count": 4,
     "metadata": {},
     "output_type": "execute_result"
    }
   ],
   "source": [
    "## Code Block 4\n",
    "\n",
    "OverlandFlowSpatiallyVariableInputs.input_var_names #Inputs necessary variable names\n",
    "\n",
    "rmg.add_zeros('surface_water__depth', at = 'node') # Creates all topographic, sediment, and flow variables"
   ]
  },
  {
   "cell_type": "code",
   "execution_count": 5,
   "id": "14cd0965",
   "metadata": {},
   "outputs": [],
   "source": [
    "## Code Block 6\n",
    "\n",
    "# Sets boundaries to closed \n",
    "rmg.set_closed_boundaries_at_grid_edges(True,True,True,True)  \n"
   ]
  },
  {
   "cell_type": "code",
   "execution_count": 6,
   "id": "a9a4e8a0",
   "metadata": {},
   "outputs": [],
   "source": [
    "## Code Block 7\n",
    "\n",
    "# Instantiation according to Adams et al 2017\n",
    "of = OverlandFlowSpatiallyVariableInputs(rmg, h_init = h_init, steep_slopes = False, theta = 1.0, alpha = 0.7, dt_max = 7.5)"
   ]
  },
  {
   "cell_type": "code",
   "execution_count": 7,
   "id": "f654ce5d",
   "metadata": {},
   "outputs": [],
   "source": [
    "## Code Block 8\n",
    "\n",
    "# ID for boundary nodes\n",
    "# First we need to generate a list with the west-east nodes ID next to the left edge\n",
    "# For a 120 columns raster these will be 121 241 361 etc..\n",
    "nodesBoundary_Id = np.arange(rmg.number_of_node_columns,rmg.number_of_node_columns*(rmg.number_of_node_rows-1),(rmg.number_of_node_columns))\n",
    "\n",
    "# ID for boundary links\n",
    "# Now we need to generate a list with the west-east links ID at the left edge\n",
    "# For a 120 column raster these will be 240 479 718 etc..\n",
    "linksBoundary_Id = np.arange((2*rmg.number_of_node_columns)-1,rmg.number_of_links,(2*rmg.number_of_node_columns)-1)"
   ]
  },
  {
   "cell_type": "code",
   "execution_count": 8,
   "id": "d671d64f",
   "metadata": {},
   "outputs": [],
   "source": [
    "## Code Block 9\n",
    "\n",
    "# Defines some variables used to store data\n",
    "t = 0                                   # Initializates the variable\n",
    "storeDataNow = True                     # Used to save the plot at time zero and tmax\n",
    "plotNow = True                          # Used to save the plot at time zero and tmax\n",
    "check_tmax = True\n",
    "tPlotOrg=copy.deepcopy(tPlot)           # A copy of tPlot\n",
    "storeDataOrg=copy.deepcopy(storeData)   # A copy of tPlot"
   ]
  },
  {
   "cell_type": "code",
   "execution_count": 9,
   "id": "e2962110",
   "metadata": {},
   "outputs": [
    {
     "name": "stdout",
     "output_type": "stream",
     "text": [
      "Storing results at time : 0  s\n",
      "Elapsed time : 0  s. Current dt = 7.5 . Adaptive time = 35.3  s - Saving plot\n",
      "Storing results at time : 606.5  s\n",
      "Storing results at time : 1207.5  s\n",
      "Storing results at time : 1808.2  s\n",
      "Storing results at time : 2408.4  s\n",
      "Storing results at time : 3008.8  s\n",
      "Storing results at time : 3600  s\n",
      "Elapsed time : 3600  s. Current dt = 0.7 . Adaptive time = 0.7  s - Saving plot\n"
     ]
    }
   ],
   "source": [
    "## Code Block 10\n",
    "\n",
    "while t <= tmax:\n",
    "    \n",
    "    h_boundary = np.max((0.001,(7/3 * n**2 * u**3 * t) ** (3/7)))\n",
    "    q_boundary = u * h_boundary\n",
    "    \n",
    "    # Updates data in the grid\n",
    "    rmg[\"node\"][\"surface_water__depth\"][nodesBoundary_Id] = h_boundary\n",
    "    rmg[\"link\"][\"surface_water__depth\"][linksBoundary_Id] = h_boundary\n",
    "    rmg[\"link\"][\"surface_water__discharge\"][linksBoundary_Id] = q_boundary\n",
    "    of.overland_flow()  # Runs overland flow for one time step\n",
    "    \n",
    "    ## Stores results\n",
    "    storeData = round(storeData-of.dt, dtPrecision)\n",
    "    if (storeData <= 0) or storeDataNow:\n",
    "        print('Storing results at time :',np.round(t,1),' s')      \n",
    "        data = np.reshape(np.hstack([t,(of._h.T)]),[1,rmg.number_of_nodes+1])\n",
    "        with open(\"output1_node_surface_water__depth.txt\", \"ab\") as f:\n",
    "            np.savetxt(f, data,'%.3f')              \n",
    "        storeData = round(storeDataOrg, dtPrecision)\n",
    "        storeDataNow = False\n",
    "\n",
    "    tPlot = round(tPlot-of.dt, dtPrecision)\n",
    "    if tPlot <= 0  or plotNow:\n",
    "        print('Elapsed time :',np.round(t,1),' s. Current dt =',\\\n",
    "              np.round(of.dt,1),'. Adaptive time =',np.round(of._adaptive_dt,1),' s - Saving plot')\n",
    "        \n",
    "        \"\"\" Water depth plot\"\"\"\n",
    "        plot_name='Surface water depth [m] at ' + str(np.round(t,0)) + ' sec'\n",
    "        imshow_grid(rmg, 'surface_water__depth',cmap='Blues',vmin=0,vmax=hMax,plot_name=plot_name)\n",
    "        output='depth_'+str(np.round(t,0))+'.png'\n",
    "        plt.savefig(output,dpi=300); plt.close()   \n",
    "               \n",
    "        plotNow = False\n",
    "        tPlot = tPlotOrg\n",
    "        \n",
    "            ## Updating t\n",
    "    if (t + of.dt > tmax) and check_tmax:\n",
    "        of.dt = tmax - t\n",
    "        t = tmax\n",
    "        storeDataNow = True  \n",
    "        plotNow = True\n",
    "        check_tmax = False\n",
    "    else:\n",
    "        t = round(t + of.dt, dtPrecision)"
   ]
  },
  {
   "cell_type": "code",
   "execution_count": 10,
   "id": "8a2e614d",
   "metadata": {},
   "outputs": [],
   "source": [
    "## Code Block 11\n",
    "\n",
    "# Results\n",
    "## Water depth at the end of the simulation\n",
    "data = np.loadtxt('output1_node_surface_water__depth.txt')\n",
    "nodesToSample = np.arange(rmg.number_of_node_columns+1,2*rmg.number_of_node_columns)\n",
    "x = np.arange(0,(rmg.number_of_node_columns-1)*rmg.dx,rmg.dx)\n",
    "\n",
    "hSample = data[-1,nodesToSample]\n",
    "\n",
    "hAnalytical = np.zeros_like(x)+h_init\n",
    "hAnalytical[np.where(x<u*tmax)] =(-7/3 * (n**2 * u**2 * (x[np.where(x<u*tmax)]-u*tmax)))**(3/7)\n",
    "\n",
    "plt.figure(1)\n",
    "plt.plot(x, hSample, color='mediumblue')\n",
    "plt.plot(x, hAnalytical, color='black')\n",
    "plt.ylabel('Water depth (m)')\n",
    "plt.xlabel('x (x)')\n",
    "plt.ylim(0,2.5)\n",
    "plt.xlim(0,5000)\n",
    "plt.title('Water depth at 3600 s')\n",
    "plt.savefig('WaterDepth.png',dpi=300);plt.close()\n"
   ]
  },
  {
   "cell_type": "code",
   "execution_count": null,
   "id": "ae2dd247",
   "metadata": {},
   "outputs": [],
   "source": []
  },
  {
   "cell_type": "code",
   "execution_count": null,
   "id": "a6e8008f",
   "metadata": {},
   "outputs": [],
   "source": []
  }
 ],
 "metadata": {
  "kernelspec": {
   "display_name": "Python 3 (ipykernel)",
   "language": "python",
   "name": "python3"
  },
  "language_info": {
   "codemirror_mode": {
    "name": "ipython",
    "version": 3
   },
   "file_extension": ".py",
   "mimetype": "text/x-python",
   "name": "python",
   "nbconvert_exporter": "python",
   "pygments_lexer": "ipython3",
   "version": "3.9.12"
  }
 },
 "nbformat": 4,
 "nbformat_minor": 5
}
