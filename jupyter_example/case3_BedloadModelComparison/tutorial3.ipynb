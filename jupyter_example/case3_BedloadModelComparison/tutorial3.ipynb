{
 "cells": [
  {
   "cell_type": "markdown",
   "id": "cd2d4945",
   "metadata": {},
   "source": [
    "**TO DO:\n",
    "    1) EDIT INTRO TEXT\n",
    "    2) UPDATE ALL CODE SO THAT THE 4 MODELS CAN BE INTERCHANGED AND ADD INSTRUCTIONS\n",
    "    3) MAKE SURE FIGURES ARE THE SAME AS THOSE IN THE PAPER\n",
    "    4) ADD INSTRUCTIONS/EXPLANATIONS THROUGHOUT**"
   ]
  },
  {
   "cell_type": "markdown",
   "id": "78faf1e2",
   "metadata": {},
   "source": [
    "<a href=\"http://landlab.github.io\"><img style=\"float: left\" src=\"https://raw.githubusercontent.com/landlab/tutorials/release/landlab_header.png\"></a>"
   ]
  },
  {
   "cell_type": "markdown",
   "id": "54f2a040",
   "metadata": {},
   "source": [
    "# Test comparing the four different models in riverBedDynamics\n",
    "This notebook was created by Sam Anderson, Mikey Sison and Angel Monsalve."
   ]
  },
  {
   "cell_type": "markdown",
   "id": "1ad47ad8",
   "metadata": {},
   "source": [
    "<hr>\n",
    "<small>For tutorials on learning Landlab, click here: <a href=\"https://github.com/landlab/landlab/wiki/Tutorials\">https://github.com/landlab/landlab/wiki/Tutorials</a></small>\n",
    "<hr>"
   ]
  },
  {
   "cell_type": "markdown",
   "id": "840d82fe",
   "metadata": {},
   "source": [
    "**What is this notebook?**\n",
    "\n",
    "We checked the predictions of bed surface elevation and local GSD for all bed load transport models included in our component using a test like the one described in the previous section. In this case, we used a 1500 m long, straight channel with an initial bed surface slope of 0.015 m/m, a fixed elevation of 0m at the channel outlet, a surface roughness of n = 0.0275, a flow discharge Q = 100 m3/s specified  by using a rainfall intensity of 0.02 m/s acting over a two cells of 50 m per side (∆x=∆y) located at the upstream boundary. The initial bed surface GSD has a D_50 of 32 mm and D_sg of 28.84 mm including grains ranging from 2 to 256 mm (Figure 9 d). The initial water depth (h_init) at all cells is 1 mm, the time step is fixed and equal to 5 s. All other variables had their default value. The upstream sediment supply is q_b = 0.0075 m2/s with the same GSD as the bed surface. The total simulation time was 120 days for all the models we ran. We choose this test configuration because our predictions using the bed load equations of Parker (1990) and Wilcock & Crowe (2003) can be verified using the algorithm developed and implemented by Parker (2004) RTe-bookAgDegNormGravMixPW.xls (Sediment transport morphodynamics with applications to rivers and turbidity currents, http://hydrolab.illinois.edu/people/parkerg/morphodynamics_e-book.htm). Also, an analytical solution for Meyer-Peter & Müller (1948) can be obtained using Eq. 33. In the case of Fernandez Luque & Van Beek (1976), Eq. 33 can be modified using τ_c^*=0.045 and replacing the constant 8 by 5.7 to obtain an equilibrium slope too.\n",
    "\n",
    "We compared the predicted bed elevation of all bed load transport models at different simulation times (Figure 9 a and b). After 10 days the equations of Parker (1990) and Wilcock & Crowe (2003) predict  a bed elevation with an upward-concave longitudinal profile and a higher elevation at the upstream boundary compared to the models that do not account for the whole GSD (Figure 9 a). Compared to the models implemented in RTe-bookAgDegNormGravMixPW.xls (hereinafter, Parker-ebook), predictions of riverBedDynamics follow all trends in the longitudinal bed elevation profile and forecast a higher elevation for Wilcock & Crowe (2003) than for Parker (1990) as it is seen in the Parker-ebook. The models of Meyer-Peter & Müller (1948) and Fernandez Luque & Van Beek (1976) have a more uniform slope along the longitudinal distance . There is no analytical solution after 10 days for these two models because the equilibrium condition has not been reached yet. After 120 days all models can be considered in relatively stable conditions based on the elevation rate of change  at the upstream boundary node (0.15 m/day for Wilcock & Crowe (2003) and less than 0.6 mm/day for all other models). In all cases the longitudinal profiles show a relatively uniform slope (Figure 9 b). However, the magnitude of local elevation is different in all the tested models. The equation of Wilcock & Crowe (2003) predicted a steeper bed slope (0.0624 m/m), more than double than Meyer-Peter & Müller (1948) (0.0249 m/m) and Fernandez Luque & Van Beek (1976) (0.0311 m/m) . Parker (1990) predicts an average bed slope of 0.0407 m/m. In general, predictions of riverBedDynamics using the model of Wilcock & Crowe (2003) are in good agreement with those predicted in Parker-ebook, but are slightly underpredicted (max difference of 3.4 m at the most upstream node) when using Parker (1990). However, these differences are only referential because we did not try to calibrate the models in Parker-ebook and only used an estimate of the coefficient in Manning-Strickler resistance relation (α_r=9.7). The elevation predicted by the models of Meyer-Peter & Müller (1948) (0.0249 m/m) and Fernandez Luque & Van Beek (1976) are in good agreement to those calculated using the equilibrium slope (Eq. 33, errors below 0.23%)\n",
    "\n",
    "We also analyzed the dynamics of bed surface GSD in terms of the evolution of the surface D_sg which we evaluated locally at different time during the simulation. In general terms, the bed quickly adjusted itself at the most upstream node (Figure 9 c, 1 day panel) with an increase in D_sg from 28.84 to 33.19 mm which then remains almost constant until the end of the simulation (final D_sg is 33.45 mm). Approximately during the first 9 days of simulation, the bed also experiences a local fining compared to the initial D_sg (i.e., have local D_sg lower than 28.84 mm), but after 10 days and until the end of the simulation the bed has a D_sg larger than 28.84 mm everywhere. On the 60th day of simulation the D_sg is practically the same in the whole domain (33.4 mm at x=0 and average of 33.3 mm), while the downstream end is varying at a rate of 0.008 mm/day. To complement our analysis we further compared the predictions in two cases: i) updating the substrate GSD (stratigraphy update in Figure 9 c, newSurfaceLayerThickness equal to 1 m) and ii) keeping the initial substrate constant during the whole simulation (no stratigraphy update in Figure 9 c). We observed that for this purely aggradation case updating the substrate GSD has little effect on the surface D_sg (notice that solid line overlaps with the cross symbol in Figure 9 c). To check if our predictions are correct, we compared them to those of Parker-ebook and found that beside relatively small local differences (max of 1.04 mm on day 5) thee magnitude and trends are match reasonable well. The observed differences in D_sg, although relatively small, can be attributed to the way in which flow is calculated. In our LEM we used the results of OverlandFlow, a 2D flow solver, that accounts for the unsteadiness of the flow while in Parker-ebook the flow is predicted using simplified relations for hydraulic resistance and the normal flow (local equilibrium) approximation. Still, as mentioned earlier, is not our intention to obtain the same result than Parker-ebook but rather to have a good comparison point and validate our results.\n",
    "\n",
    "Although in this test case changes in substrate GSD do not affect the evolution of bed surface elevation and GSD we still analyzed the stratigraphy tracking capabilities of riverBedDynamics. In this case we analyzed a single location located at x = 1000 m. Contrary to the surface GSD, the substrate only increased in D_sg. This is because by the time the first new layer was created (8.1 days) the GSD of the deposited layer at x = 1000 m was on average coarser than the initial GSD (Figure 9 d). A total of 12 layers were created during the 120 days of simulations, the last one after 93.9 days. Ten of these layers were added before 50 days and seven before 30 days, indicating that most of the substrate GSD updated occurred during the first quarter of simulation (Figure 9 d subplot), where the bed conditions were more different than those observed in equilibrium conditions.\n",
    "\n",
    "\n",
    "More background on the model used here and the results presented will be published in the future and the citation will be added here:\n",
    "\n",
    "**TITLE HERE**\n",
    "\n",
    "The code used in this exercise is taken from the above reference.\n",
    "\n"
   ]
  },
  {
   "cell_type": "markdown",
   "id": "be4e782e",
   "metadata": {},
   "source": [
    "**Now on to the code.**\n",
    "* Below we import Landlab components, functions for importing data, numpy and plotting tools. You should not need to change this."
   ]
  },
  {
   "cell_type": "markdown",
   "id": "56fed39c",
   "metadata": {},
   "source": [
    "Now we import the data for the watershed we want to route flow on, as well as some model parameters. "
   ]
  },
  {
   "cell_type": "code",
   "execution_count": 1,
   "id": "18a11612",
   "metadata": {
    "pycharm": {
     "name": "#%%\n"
    }
   },
   "outputs": [],
   "source": [
    "## Code Block 1\n",
    "\n",
    "%reset -f\n",
    "import numpy as np\n",
    "import pandas as pd\n",
    "import copy\n",
    "import os\n",
    "import shutil\n",
    "from matplotlib import pyplot as plt\n",
    "from landlab.components import OverlandFlowSpatiallyVariableInputs, RiverBedDynamics\n",
    "from landlab.io import read_esri_ascii\n",
    "from landlab import imshow_grid\n"
   ]
  },
  {
   "cell_type": "markdown",
   "id": "ebe2c2c2",
   "metadata": {},
   "source": [
    "Here, we are able to choose the five different models and settings under which our system will run.\n",
    "You must also select the same case settings in Code Block 6."
   ]
  },
  {
   "cell_type": "code",
   "execution_count": 15,
   "id": "9b7e9edc",
   "metadata": {
    "pycharm": {
     "name": "#%%\n"
    }
   },
   "outputs": [
    {
     "data": {
      "text/plain": [
       "\"\\nbedElevation =      'case3e_Parker1990_SurfTrack\\\\bedElevationDEM.asc'         # ASCII raster DEM containing the bed surface elevation\\ngsd = pd.read_excel('case3e_Parker1990_SurfTrack\\\\bedGSD.xlsx',sheet_name='GSD',skiprows=0).values\\n\""
      ]
     },
     "execution_count": 15,
     "metadata": {},
     "output_type": "execute_result"
    }
   ],
   "source": [
    "## Code Block 2\n",
    "#UNCOMMENT THE '''''' TO APPLY THE OTHER CASES\n",
    "#ONLY ONE OF THE TESTS SHOULD BE APPLIED AT THE SAME TIME\n",
    "\"\"\" Numerical simulation conditions and time control settings\"\"\"\n",
    "\n",
    "#Case 3a: MPM\n",
    "#'''\n",
    "bedElevation =      'Case3a_MPM\\\\bedElevationDEM.asc'         # ASCII raster DEM containing the bed surface elevation\n",
    "gsd = pd.read_excel('Case3a_MPM\\\\bedGSD.xlsx',sheet_name='GSD',skiprows=0).values\n",
    "#'''\n",
    "\n",
    "#Case 3b: FLvB\n",
    "'''\n",
    "bedElevation =      'Case3b_FLvB\\\\bedElevationDEM.asc'         # ASCII raster DEM containing the bed surface elevation\n",
    "gsd = pd.read_excel('Case3b_FLvB\\\\bedGSD.xlsx',sheet_name='GSD',skiprows=0).values\n",
    "'''\n",
    "\n",
    "#Case 3c: Parker1990\n",
    "'''\n",
    "bedElevation =      'case3c_Parker1990\\\\bedElevationDEM.asc'         # ASCII raster DEM containing the bed surface elevation\n",
    "gsd = pd.read_excel('case3c_Parker1990\\\\bedGSD.xlsx',sheet_name='GSD',skiprows=0).values\n",
    "'''\n",
    "\n",
    "#Case 3d: WilcockAndCrowe\n",
    "'''\n",
    "bedElevation =      'Case3d_WilcockAndCrowe\\\\bedElevationDEM.asc'         # ASCII raster DEM containing the bed surface elevation\n",
    "gsd = pd.read_excel('Case3d_WilcockAndCrowe\\\\bedGSD.xlsx',sheet_name='GSD',skiprows=0).values\n",
    "'''\n",
    "\n",
    "#Case 3e: Parker1990_SurfTrack\n",
    "'''\n",
    "bedElevation =      'case3e_Parker1990_SurfTrack\\\\bedElevationDEM.asc'         # ASCII raster DEM containing the bed surface elevation\n",
    "gsd = pd.read_excel('case3e_Parker1990_SurfTrack\\\\bedGSD.xlsx',sheet_name='GSD',skiprows=0).values\n",
    "'''"
   ]
  },
  {
   "cell_type": "code",
   "execution_count": 3,
   "id": "05eb8f09",
   "metadata": {
    "pycharm": {
     "name": "#%%\n"
    }
   },
   "outputs": [],
   "source": [
    "dtPrecision = 3         # Avoids rounding errors\n",
    "max_dt = 5              # Overland flow will use the min time step between this value and the automatically calculated. Use seconds.\n",
    "tPlot = 86400         # Plots will be obtained every this seconds\n",
    "storeData = 86400     # Stores results every this time\n",
    "tmax = 121*86400+max_dt          # Maximum simulation time\n",
    "\n",
    "# Flow, bed, and upstream simulation conditions\n",
    "n = 0.0275                         # Manning's n\n",
    "upstreamSedSupply = 0.0075         # bedload rate at inlet"
   ]
  },
  {
   "cell_type": "markdown",
   "id": "730d4559",
   "metadata": {},
   "source": [
    "Here, we specify some important locations (links and nodes) where we take data from and where we specify where sediment is coming from."
   ]
  },
  {
   "cell_type": "code",
   "execution_count": 4,
   "id": "7c2dab5e",
   "metadata": {
    "pycharm": {
     "name": "#%%\n"
    }
   },
   "outputs": [],
   "source": [
    "# Link Id in which sediment supply enters\n",
    "link_Inlet = np.array((71,140))\n",
    "\n",
    "# Node Id in which rainfall is specified\n",
    "Node_Inlet = np.array((36,71))\n",
    "\n",
    "# Node ID for fixed elevation nodes\n",
    "fixedNodesId = np.array((33,34,68,69,103,104,138,139))\n",
    "\n",
    "# Node ID for fixed bed surface GSD nodes\n",
    "fixedBedGSDNodesId = np.array((0,1,2,35,36,37,70,71,72,105,106,107))"
   ]
  },
  {
   "cell_type": "code",
   "execution_count": null,
   "id": "85b76098",
   "metadata": {},
   "outputs": [],
   "source": []
  },
  {
   "cell_type": "code",
   "execution_count": 5,
   "id": "5058227f",
   "metadata": {
    "pycharm": {
     "name": "#%%\n"
    }
   },
   "outputs": [],
   "source": [
    "## Code Block 4\n",
    "#\n",
    "directory = os.getcwd() ; test = os.listdir( directory )\n",
    "\n",
    "for item in test:\n",
    "    if item.endswith(\".png\"):\n",
    "        os.remove( os.path.join( directory, item ) )\n",
    "    if item.endswith(\".txt\"):\n",
    "        os.remove( os.path.join( directory, item ) )"
   ]
  },
  {
   "cell_type": "code",
   "execution_count": null,
   "id": "b942ed57",
   "metadata": {},
   "outputs": [],
   "source": []
  },
  {
   "cell_type": "code",
   "execution_count": 6,
   "id": "74a7c2d1",
   "metadata": {
    "pycharm": {
     "name": "#%%\n"
    }
   },
   "outputs": [],
   "source": [
    "## Code Block 5\n",
    "\n",
    "# Creates fields and instantiate the component\n",
    "OverlandFlowSpatiallyVariableInputs.input_var_names\n",
    "RiverBedDynamics.input_var_names\n",
    "(rmg, z) = read_esri_ascii(bedElevation, name='topographic__elevation')\n",
    "rmg.add_zeros('bed_surface__roughness', at = 'link')\n",
    "rmg.add_zeros('surface_water__depth', at = 'node')\n",
    "rmg.add_zeros('rainfall__intensity', at = 'node')\n",
    "rmg['node']['bed_surface__grainSizeDistribution_location'] = np.zeros_like(z)\n"
   ]
  },
  {
   "cell_type": "code",
   "execution_count": null,
   "id": "735f138f",
   "metadata": {},
   "outputs": [],
   "source": []
  },
  {
   "cell_type": "code",
   "execution_count": 7,
   "id": "65e08721",
   "metadata": {
    "pycharm": {
     "name": "#%%\n"
    }
   },
   "outputs": [
    {
     "data": {
      "text/plain": [
       "\"\\nrbd = RiverBedDynamics(rmg , gsd = gsd, outletBoundaryCondition='fixedValue',bedloadEq='Parker1990',trackStratigraphy=True)\\n\""
      ]
     },
     "execution_count": 7,
     "metadata": {},
     "output_type": "execute_result"
    }
   ],
   "source": [
    "## Code Block 6\n",
    "\n",
    "#UNCOMMENT THE '''''' TO APPLY THE OTHER CASES\n",
    "#ONLY ONE OF THE TESTS SHOULD BE APPLIED AT THE SAME TIME\n",
    "\n",
    "of = OverlandFlowSpatiallyVariableInputs(rmg, dt_max=max_dt,h_init=0.001)\n",
    "\n",
    "#Case 3a: MPM\n",
    "\n",
    "#'''\n",
    "rbd = RiverBedDynamics(rmg , gsd = gsd, variableCriticalShearStress = True, outletBoundaryCondition='fixedValue',bedloadEq='MPM')\n",
    "#'''\n",
    "\n",
    "#Case 3b: FLvB\n",
    "\n",
    "'''\n",
    "rbd = RiverBedDynamics(rmg , gsd = gsd, outletBoundaryCondition='fixedValue',bedloadEq='FLvB')\n",
    "'''\n",
    "\n",
    "#Case 3c: Parker1990\n",
    "\n",
    "'''\n",
    "rbd = RiverBedDynamics(rmg , gsd = gsd, outletBoundaryCondition='fixedValue',bedloadEq='Parker1990',trackStratigraphy=False)\n",
    "'''\n",
    "\n",
    "#Case 3d: WilcockAndCrowe\n",
    "\n",
    "'''\n",
    "rbd = RiverBedDynamics(rmg , gsd = gsd, variableCriticalShearStress = True, outletBoundaryCondition='fixedValue',bedloadEq='WilcockAndCrowe')\n",
    "'''\n",
    "\n",
    "\n",
    "#Case 3e: Parker1990_SurfTrack\n",
    "\n",
    "'''\n",
    "rbd = RiverBedDynamics(rmg , gsd = gsd, outletBoundaryCondition='fixedValue',bedloadEq='Parker1990',trackStratigraphy=True)\n",
    "'''\n"
   ]
  },
  {
   "cell_type": "code",
   "execution_count": null,
   "id": "18c03c06",
   "metadata": {},
   "outputs": [],
   "source": []
  },
  {
   "cell_type": "code",
   "execution_count": 8,
   "id": "1c589837",
   "metadata": {
    "pycharm": {
     "name": "#%%\n"
    }
   },
   "outputs": [],
   "source": [
    "## Code Block 7\n",
    "\n",
    "# Set boundaries as closed boundaries, the outlet is set to an open boundary.\n",
    "rmg.set_watershed_boundary_condition_outlet_id([69,104], z, 45.)\n",
    "\n",
    "# Creates the fixed elevation nodes information\n",
    "fixedNodes = np.zeros_like(z)   # fixedNodes defines as 1 if a node is fixed or 0 if it can vary in elevation\n",
    "fixedNodes[fixedNodesId] = 1\n",
    "rmg['node']['bed_surface__fixedElevation'] = fixedNodes                         # Assigns fixed locations to landlab grid\n"
   ]
  },
  {
   "cell_type": "code",
   "execution_count": null,
   "id": "8d40a7f8",
   "metadata": {},
   "outputs": [],
   "source": []
  },
  {
   "cell_type": "code",
   "execution_count": 9,
   "id": "6824a9b6",
   "metadata": {
    "pycharm": {
     "name": "#%%\n"
    }
   },
   "outputs": [],
   "source": [
    "## Code Block 8\n",
    "\n",
    "# Creates the fixed bed surface GSD Nodes location information\n",
    "#IMPORTANT BECAUSE WELL NEED TO PUT THIS IN OUR EXPERIMENT\n",
    "\n",
    "fixedBedGSDNodes = np.zeros_like(z)   # fixedNodes defines as 1 if a node is fixed or 0 if it can vary in elevation\n",
    "fixedBedGSDNodes[fixedBedGSDNodesId] = 1\n",
    "rmg['node']['bed_surface__fixed_grainSizeDistribution'] = fixedBedGSDNodes\n",
    "# Assigns fixed locations to landlab grid"
   ]
  },
  {
   "cell_type": "code",
   "execution_count": null,
   "id": "14dcfe6a",
   "metadata": {},
   "outputs": [],
   "source": []
  },
  {
   "cell_type": "code",
   "execution_count": 10,
   "id": "a2a6f1bf",
   "metadata": {
    "pycharm": {
     "name": "#%%\n"
    }
   },
   "outputs": [],
   "source": [
    "## Code Block 9\n",
    "\n",
    "# Create bed and flow initial condition\n",
    "rmg['link']['bed_surface__roughness'] = np.zeros(rmg.number_of_links) + n       # n is Manning's roughness coefficient\n",
    "rmg['node']['rainfall__intensity'][Node_Inlet] = 0.02                           # Precipitation in m/s\n",
    "rmg['link']['sediment_transport__imposed_sediment_supply'][link_Inlet] = upstreamSedSupply\n",
    "\n",
    "# Node ID for calculated node elevation\n",
    "calcNodesId = np.array((2,1,0,37,36,35,72,71,70,107,106,105))"
   ]
  },
  {
   "cell_type": "code",
   "execution_count": null,
   "id": "9c8660d2",
   "metadata": {},
   "outputs": [],
   "source": []
  },
  {
   "cell_type": "code",
   "execution_count": 11,
   "id": "b100b38a",
   "metadata": {
    "pycharm": {
     "name": "#%%\n"
    }
   },
   "outputs": [],
   "source": [
    "## Code Block 10\n",
    "\n",
    "\"\"\" Defines some variables to store data and run the actual simulation \"\"\"\n",
    "storeNow = True\n",
    "plotNow = True                          # Used to save the plot at time zero\n",
    "check_tmax = True\n",
    "tPlotOrg=copy.deepcopy(tPlot)           # A copy of tPlot\n",
    "storeDataOrg=copy.deepcopy(storeData)   # A copy of tPlot\n",
    "linkList = np.arange(69,103)           # This is just to gather data at links in the long profile\n",
    "nodeList = np.arange(35,70)           # This is just to gather data at data in the long profile\n",
    "outputFolder = 'output'\n",
    "cwd = os.getcwd()\n"
   ]
  },
  {
   "cell_type": "code",
   "execution_count": null,
   "id": "c86ee669",
   "metadata": {},
   "outputs": [],
   "source": []
  },
  {
   "cell_type": "code",
   "execution_count": 12,
   "id": "78206c10",
   "metadata": {
    "pycharm": {
     "name": "#%%\n"
    },
    "scrolled": true
   },
   "outputs": [
    {
     "name": "stdout",
     "output_type": "stream",
     "text": [
      "The folder\n",
      "output\n",
      "Exists and it will be removed \n",
      "\n",
      "Filling channel - Time : 5.0  sec - Water depth at outlet 0.001  m\n",
      "Filling channel - Time : 10.0  sec - Water depth at outlet 0.001  m\n",
      "Filling channel - Time : 15.0  sec - Water depth at outlet 0.001  m\n",
      "Filling channel - Time : 20.0  sec - Water depth at outlet 0.001  m\n",
      "Filling channel - Time : 25.0  sec - Water depth at outlet 0.001  m\n",
      "Filling channel - Time : 30.0  sec - Water depth at outlet 0.001  m\n",
      "Filling channel - Time : 35.0  sec - Water depth at outlet 0.001  m\n",
      "Filling channel - Time : 40.0  sec - Water depth at outlet 0.001  m\n",
      "Filling channel - Time : 45.0  sec - Water depth at outlet 0.001  m\n",
      "Filling channel - Time : 50.0  sec - Water depth at outlet 0.001  m\n",
      "Filling channel - Time : 55.0  sec - Water depth at outlet 0.001  m\n",
      "Filling channel - Time : 60.0  sec - Water depth at outlet 0.001  m\n",
      "Filling channel - Time : 65.0  sec - Water depth at outlet 0.001  m\n",
      "Filling channel - Time : 70.0  sec - Water depth at outlet 0.001  m\n",
      "Filling channel - Time : 75.0  sec - Water depth at outlet 0.001  m\n",
      "Filling channel - Time : 80.0  sec - Water depth at outlet 0.001  m\n",
      "Filling channel - Time : 85.0  sec - Water depth at outlet 0.001  m\n",
      "Filling channel - Time : 90.0  sec - Water depth at outlet 0.001  m\n",
      "Filling channel - Time : 95.0  sec - Water depth at outlet 0.001  m\n",
      "Filling channel - Time : 100.0  sec - Water depth at outlet 0.001  m\n",
      "Filling channel - Time : 105.0  sec - Water depth at outlet 0.001  m\n",
      "Filling channel - Time : 110.0  sec - Water depth at outlet 0.001  m\n",
      "Filling channel - Time : 115.0  sec - Water depth at outlet 0.001  m\n",
      "Filling channel - Time : 120.0  sec - Water depth at outlet 0.001  m\n",
      "Filling channel - Time : 125.0  sec - Water depth at outlet 0.001  m\n",
      "Filling channel - Time : 130.0  sec - Water depth at outlet 0.001  m\n",
      "Filling channel - Time : 135.0  sec - Water depth at outlet 0.001  m\n",
      "Filling channel - Time : 140.0  sec - Water depth at outlet 0.001  m\n",
      "Filling channel - Time : 145.0  sec - Water depth at outlet 0.001  m\n",
      "Filling channel - Time : 150.0  sec - Water depth at outlet 0.001  m\n",
      "Filling channel - Time : 155.0  sec - Water depth at outlet 0.001  m\n",
      "Filling channel - Time : 160.0  sec - Water depth at outlet 0.001  m\n",
      "Filling channel - Time : 165.0  sec - Water depth at outlet 0.001  m\n",
      "Filling channel - Time : 170.0  sec - Water depth at outlet 0.001  m\n",
      "Filling channel - Time : 175.0  sec - Water depth at outlet 0.001  m\n",
      "Filling channel - Time : 180.0  sec - Water depth at outlet 0.001  m\n",
      "Filling channel - Time : 185.0  sec - Water depth at outlet 0.001  m\n",
      "Filling channel - Time : 190.0  sec - Water depth at outlet 0.001  m\n",
      "Filling channel - Time : 195.0  sec - Water depth at outlet 0.001  m\n",
      "Filling channel - Time : 200.0  sec - Water depth at outlet 0.001  m\n",
      "Filling channel - Time : 205.0  sec - Water depth at outlet 0.001  m\n",
      "Filling channel - Time : 210.0  sec - Water depth at outlet 0.001  m\n",
      "Filling channel - Time : 215.0  sec - Water depth at outlet 0.001  m\n",
      "Filling channel - Time : 220.0  sec - Water depth at outlet 0.001  m\n",
      "Filling channel - Time : 225.0  sec - Water depth at outlet 0.001  m\n",
      "Filling channel - Time : 230.0  sec - Water depth at outlet 0.001  m\n",
      "Filling channel - Time : 235.0  sec - Water depth at outlet 0.001  m\n",
      "Filling channel - Time : 240.0  sec - Water depth at outlet 0.001  m\n",
      "Filling channel - Time : 245.0  sec - Water depth at outlet 0.001  m\n",
      "Filling channel - Time : 250.0  sec - Water depth at outlet 0.001  m\n",
      "Filling channel - Time : 255.0  sec - Water depth at outlet 0.001  m\n",
      "Filling channel - Time : 260.0  sec - Water depth at outlet 0.001  m\n",
      "Filling channel - Time : 265.0  sec - Water depth at outlet 0.001  m\n",
      "Filling channel - Time : 270.0  sec - Water depth at outlet 0.001  m\n",
      "Filling channel - Time : 275.0  sec - Water depth at outlet 0.001  m\n",
      "Filling channel - Time : 280.0  sec - Water depth at outlet 0.001  m\n",
      "Filling channel - Time : 285.0  sec - Water depth at outlet 0.001  m\n",
      "Filling channel - Time : 290.0  sec - Water depth at outlet 0.001  m\n",
      "Filling channel - Time : 295.0  sec - Water depth at outlet 0.001  m\n",
      "Filling channel - Time : 300.0  sec - Water depth at outlet 0.001  m\n",
      "Filling channel - Time : 305.0  sec - Water depth at outlet 0.001  m\n",
      "Filling channel - Time : 310.0  sec - Water depth at outlet 0.001  m\n",
      "Filling channel - Time : 315.0  sec - Water depth at outlet 0.001  m\n",
      "Filling channel - Time : 320.0  sec - Water depth at outlet 0.001  m\n",
      "Filling channel - Time : 325.0  sec - Water depth at outlet 0.001  m\n",
      "Filling channel - Time : 330.0  sec - Water depth at outlet 0.001  m\n",
      "Filling channel - Time : 335.0  sec - Water depth at outlet 0.001  m\n",
      "Filling channel - Time : 340.0  sec - Water depth at outlet 0.001  m\n",
      "Filling channel - Time : 345.0  sec - Water depth at outlet 0.001  m\n",
      "Filling channel - Time : 350.0  sec - Water depth at outlet 0.001  m\n",
      "Filling channel - Time : 355.0  sec - Water depth at outlet 0.001  m\n",
      "Filling channel - Time : 360.0  sec - Water depth at outlet 0.001  m\n",
      "Filling channel - Time : 365.0  sec - Water depth at outlet 0.001  m\n",
      "Filling channel - Time : 370.0  sec - Water depth at outlet 0.001  m\n",
      "Filling channel - Time : 375.0  sec - Water depth at outlet 0.001  m\n",
      "Filling channel - Time : 380.0  sec - Water depth at outlet 0.001  m\n",
      "Filling channel - Time : 385.0  sec - Water depth at outlet 0.001  m\n",
      "Filling channel - Time : 390.0  sec - Water depth at outlet 0.001  m\n",
      "Filling channel - Time : 395.0  sec - Water depth at outlet 0.001  m\n",
      "Filling channel - Time : 400.0  sec - Water depth at outlet 0.001  m\n",
      "Filling channel - Time : 405.0  sec - Water depth at outlet 0.001  m\n",
      "Filling channel - Time : 410.0  sec - Water depth at outlet 0.001  m\n",
      "Filling channel - Time : 415.0  sec - Water depth at outlet 0.001  m\n",
      "Filling channel - Time : 420.0  sec - Water depth at outlet 0.001  m\n",
      "Filling channel - Time : 425.0  sec - Water depth at outlet 0.001  m\n",
      "Filling channel - Time : 430.0  sec - Water depth at outlet 0.001  m\n",
      "Filling channel - Time : 435.0  sec - Water depth at outlet 0.001  m\n",
      "Filling channel - Time : 440.0  sec - Water depth at outlet 0.001  m\n",
      "Filling channel - Time : 445.0  sec - Water depth at outlet 0.001  m\n",
      "Filling channel - Time : 450.0  sec - Water depth at outlet 0.001  m\n",
      "Filling channel - Time : 455.0  sec - Water depth at outlet 0.001  m\n",
      "Filling channel - Time : 460.0  sec - Water depth at outlet 0.001  m\n",
      "Filling channel - Time : 465.0  sec - Water depth at outlet 0.001  m\n",
      "Filling channel - Time : 470.0  sec - Water depth at outlet 0.001  m\n",
      "Filling channel - Time : 475.0  sec - Water depth at outlet 0.001  m\n",
      "Filling channel - Time : 480.0  sec - Water depth at outlet 0.001  m\n",
      "Filling channel - Time : 485.0  sec - Water depth at outlet 0.001  m\n",
      "Filling channel - Time : 490.0  sec - Water depth at outlet 0.001  m\n",
      "Filling channel - Time : 495.0  sec - Water depth at outlet 0.001  m\n",
      "Filling channel - Time : 500.0  sec - Water depth at outlet 0.001  m\n",
      "Filling channel - Time : 505.0  sec - Water depth at outlet 0.001  m\n",
      "Filling channel - Time : 510.0  sec - Water depth at outlet 0.001  m\n",
      "Filling channel - Time : 515.0  sec - Water depth at outlet 0.001  m\n",
      "Filling channel - Time : 520.0  sec - Water depth at outlet 0.001  m\n",
      "Filling channel - Time : 525.0  sec - Water depth at outlet 0.001  m\n",
      "Filling channel - Time : 530.0  sec - Water depth at outlet 0.001  m\n",
      "Filling channel - Time : 535.0  sec - Water depth at outlet 0.001  m\n",
      "Filling channel - Time : 540.0  sec - Water depth at outlet 0.001  m\n",
      "Filling channel - Time : 545.0  sec - Water depth at outlet 0.001  m\n",
      "Filling channel - Time : 550.0  sec - Water depth at outlet 0.001  m\n",
      "Filling channel - Time : 555.0  sec - Water depth at outlet 0.002  m\n",
      "Filling channel - Time : 560.0  sec - Water depth at outlet 0.003  m\n",
      "Filling channel - Time : 565.0  sec - Water depth at outlet 0.005  m\n",
      "Filling channel - Time : 570.0  sec - Water depth at outlet 0.011  m\n",
      "Filling channel - Time : 575.0  sec - Water depth at outlet 0.02  m\n",
      "Filling channel - Time : 580.0  sec - Water depth at outlet 0.035  m\n",
      "Filling channel - Time : 585.0  sec - Water depth at outlet 0.057  m\n",
      "Filling channel - Time : 590.0  sec - Water depth at outlet 0.087  m\n",
      "Filling channel - Time : 595.0  sec - Water depth at outlet 0.124  m\n",
      "Filling channel - Time : 600.0  sec - Water depth at outlet 0.167  m\n",
      "Filling channel - Time : 605.0  sec - Water depth at outlet 0.213  m\n",
      "Filling channel - Time : 610.0  sec - Water depth at outlet 0.259  m\n",
      "Filling channel - Time : 615.0  sec - Water depth at outlet 0.301  m\n",
      "Filling channel - Time : 620.0  sec - Water depth at outlet 0.338  m\n",
      "Filling channel - Time : 625.0  sec - Water depth at outlet 0.368  m\n",
      "Filling channel - Time : 630.0  sec - Water depth at outlet 0.39  m\n",
      "Filling channel - Time : 635.0  sec - Water depth at outlet 0.406  m\n",
      "Filling channel - Time : 640.0  sec - Water depth at outlet 0.416  m\n",
      "Filling channel - Time : 645.0  sec - Water depth at outlet 0.422  m\n",
      "Filling channel - Time : 650.0  sec - Water depth at outlet 0.424  m\n",
      "Filling channel - Time : 655.0  sec - Water depth at outlet 0.424  m\n",
      "Filling channel - Time : 660.0  sec - Water depth at outlet 0.423  m\n",
      "Filling channel - Time : 665.0  sec - Water depth at outlet 0.42  m\n",
      "Filling channel - Time : 670.0  sec - Water depth at outlet 0.418  m\n",
      "Filling channel - Time : 675.0  sec - Water depth at outlet 0.415  m\n",
      "Filling channel - Time : 680.0  sec - Water depth at outlet 0.413  m\n",
      "Filling channel - Time : 685.0  sec - Water depth at outlet 0.411  m\n",
      "Filling channel - Time : 690.0  sec - Water depth at outlet 0.41  m\n",
      "Filling channel - Time : 695.0  sec - Water depth at outlet 0.409  m\n",
      "Filling channel - Time : 700.0  sec - Water depth at outlet 0.408  m\n",
      "Filling channel - Time : 705.0  sec - Water depth at outlet 0.408  m\n",
      "Filling channel - Time : 710.0  sec - Water depth at outlet 0.407  m\n",
      "Filling channel - Time : 715.0  sec - Water depth at outlet 0.407  m\n"
     ]
    },
    {
     "name": "stdout",
     "output_type": "stream",
     "text": [
      "Filling channel - Time : 720.0  sec - Water depth at outlet 0.407  m\n",
      "Filling channel - Time : 725.0  sec - Water depth at outlet 0.407  m\n",
      "Filling channel - Time : 730.0  sec - Water depth at outlet 0.407  m\n",
      "Filling channel - Time : 735.0  sec - Water depth at outlet 0.408  m\n",
      "Filling channel - Time : 740.0  sec - Water depth at outlet 0.408  m\n",
      "Filling channel - Time : 745.0  sec - Water depth at outlet 0.408  m\n",
      "Filling channel - Time : 750.0  sec - Water depth at outlet 0.408  m\n",
      "Filling channel - Time : 755.0  sec - Water depth at outlet 0.408  m\n",
      "Filling channel - Time : 760.0  sec - Water depth at outlet 0.408  m\n",
      "Filling channel - Time : 765.0  sec - Water depth at outlet 0.408  m\n",
      "Filling channel - Time : 770.0  sec - Water depth at outlet 0.408  m\n",
      "Filling channel - Time : 775.0  sec - Water depth at outlet 0.408  m\n",
      "Filling channel - Time : 780.0  sec - Water depth at outlet 0.408  m\n",
      "Filling channel - Time : 785.0  sec - Water depth at outlet 0.408  m\n",
      "Filling channel - Time : 790.0  sec - Water depth at outlet 0.408  m\n",
      "Filling channel - Time : 795.0  sec - Water depth at outlet 0.408  m\n",
      "Filling channel - Time : 800.0  sec - Water depth at outlet 0.408  m\n",
      "Filling channel - Time : 805.0  sec - Water depth at outlet 0.408  m\n",
      "Filling channel - Time :"
     ]
    },
    {
     "ename": "KeyboardInterrupt",
     "evalue": "",
     "output_type": "error",
     "traceback": [
      "\u001b[1;31m---------------------------------------------------------------------------\u001b[0m",
      "\u001b[1;31mKeyboardInterrupt\u001b[0m                         Traceback (most recent call last)",
      "\u001b[1;32m~\\AppData\\Local\\Temp\\ipykernel_2840\\2211869059.py\u001b[0m in \u001b[0;36m<module>\u001b[1;34m\u001b[0m\n\u001b[0;32m     12\u001b[0m     \u001b[0mof\u001b[0m\u001b[1;33m.\u001b[0m\u001b[0moverland_flow\u001b[0m\u001b[1;33m(\u001b[0m\u001b[1;33m)\u001b[0m  \u001b[1;31m# Runs overland flow for one time step\u001b[0m\u001b[1;33m\u001b[0m\u001b[1;33m\u001b[0m\u001b[0m\n\u001b[0;32m     13\u001b[0m     \u001b[0mt\u001b[0m \u001b[1;33m=\u001b[0m \u001b[0mround\u001b[0m\u001b[1;33m(\u001b[0m\u001b[0mt\u001b[0m \u001b[1;33m+\u001b[0m \u001b[0mof\u001b[0m\u001b[1;33m.\u001b[0m\u001b[0mdt\u001b[0m\u001b[1;33m,\u001b[0m \u001b[0mdtPrecision\u001b[0m\u001b[1;33m)\u001b[0m\u001b[1;33m\u001b[0m\u001b[1;33m\u001b[0m\u001b[0m\n\u001b[1;32m---> 14\u001b[1;33m     \u001b[0mprint\u001b[0m\u001b[1;33m(\u001b[0m\u001b[1;34m'Filling channel - Time :'\u001b[0m\u001b[1;33m,\u001b[0m\u001b[0mt\u001b[0m\u001b[1;33m,\u001b[0m\u001b[1;34m' sec - Water depth at outlet'\u001b[0m\u001b[1;33m,\u001b[0m\u001b[0mround\u001b[0m\u001b[1;33m(\u001b[0m\u001b[0mof\u001b[0m\u001b[1;33m.\u001b[0m\u001b[0m_h\u001b[0m\u001b[1;33m[\u001b[0m\u001b[1;36m100\u001b[0m\u001b[1;33m]\u001b[0m\u001b[1;33m,\u001b[0m \u001b[1;36m3\u001b[0m\u001b[1;33m)\u001b[0m\u001b[1;33m,\u001b[0m\u001b[1;34m' m'\u001b[0m\u001b[1;33m)\u001b[0m\u001b[1;33m\u001b[0m\u001b[1;33m\u001b[0m\u001b[0m\n\u001b[0m\u001b[0;32m     15\u001b[0m \u001b[1;33m\u001b[0m\u001b[0m\n\u001b[0;32m     16\u001b[0m \u001b[0mprint\u001b[0m\u001b[1;33m(\u001b[0m\u001b[1;34m' '\u001b[0m\u001b[1;33m)\u001b[0m\u001b[1;33m\u001b[0m\u001b[1;33m\u001b[0m\u001b[0m\n",
      "\u001b[1;32m~\\anaconda3\\envs\\landlab_dev\\lib\\site-packages\\ipykernel\\iostream.py\u001b[0m in \u001b[0;36mwrite\u001b[1;34m(self, string)\u001b[0m\n\u001b[0;32m    529\u001b[0m             \u001b[0mis_child\u001b[0m \u001b[1;33m=\u001b[0m \u001b[1;33m(\u001b[0m\u001b[1;32mnot\u001b[0m \u001b[0mself\u001b[0m\u001b[1;33m.\u001b[0m\u001b[0m_is_master_process\u001b[0m\u001b[1;33m(\u001b[0m\u001b[1;33m)\u001b[0m\u001b[1;33m)\u001b[0m\u001b[1;33m\u001b[0m\u001b[1;33m\u001b[0m\u001b[0m\n\u001b[0;32m    530\u001b[0m             \u001b[1;31m# only touch the buffer in the IO thread to avoid races\u001b[0m\u001b[1;33m\u001b[0m\u001b[1;33m\u001b[0m\u001b[0m\n\u001b[1;32m--> 531\u001b[1;33m             \u001b[0mself\u001b[0m\u001b[1;33m.\u001b[0m\u001b[0mpub_thread\u001b[0m\u001b[1;33m.\u001b[0m\u001b[0mschedule\u001b[0m\u001b[1;33m(\u001b[0m\u001b[1;32mlambda\u001b[0m\u001b[1;33m:\u001b[0m \u001b[0mself\u001b[0m\u001b[1;33m.\u001b[0m\u001b[0m_buffer\u001b[0m\u001b[1;33m.\u001b[0m\u001b[0mwrite\u001b[0m\u001b[1;33m(\u001b[0m\u001b[0mstring\u001b[0m\u001b[1;33m)\u001b[0m\u001b[1;33m)\u001b[0m\u001b[1;33m\u001b[0m\u001b[1;33m\u001b[0m\u001b[0m\n\u001b[0m\u001b[0;32m    532\u001b[0m             \u001b[1;32mif\u001b[0m \u001b[0mis_child\u001b[0m\u001b[1;33m:\u001b[0m\u001b[1;33m\u001b[0m\u001b[1;33m\u001b[0m\u001b[0m\n\u001b[0;32m    533\u001b[0m                 \u001b[1;31m# mp.Pool cannot be trusted to flush promptly (or ever),\u001b[0m\u001b[1;33m\u001b[0m\u001b[1;33m\u001b[0m\u001b[0m\n",
      "\u001b[1;32m~\\anaconda3\\envs\\landlab_dev\\lib\\site-packages\\ipykernel\\iostream.py\u001b[0m in \u001b[0;36mschedule\u001b[1;34m(self, f)\u001b[0m\n\u001b[0;32m    214\u001b[0m             \u001b[0mself\u001b[0m\u001b[1;33m.\u001b[0m\u001b[0m_events\u001b[0m\u001b[1;33m.\u001b[0m\u001b[0mappend\u001b[0m\u001b[1;33m(\u001b[0m\u001b[0mf\u001b[0m\u001b[1;33m)\u001b[0m\u001b[1;33m\u001b[0m\u001b[1;33m\u001b[0m\u001b[0m\n\u001b[0;32m    215\u001b[0m             \u001b[1;31m# wake event thread (message content is ignored)\u001b[0m\u001b[1;33m\u001b[0m\u001b[1;33m\u001b[0m\u001b[0m\n\u001b[1;32m--> 216\u001b[1;33m             \u001b[0mself\u001b[0m\u001b[1;33m.\u001b[0m\u001b[0m_event_pipe\u001b[0m\u001b[1;33m.\u001b[0m\u001b[0msend\u001b[0m\u001b[1;33m(\u001b[0m\u001b[1;34mb''\u001b[0m\u001b[1;33m)\u001b[0m\u001b[1;33m\u001b[0m\u001b[1;33m\u001b[0m\u001b[0m\n\u001b[0m\u001b[0;32m    217\u001b[0m         \u001b[1;32melse\u001b[0m\u001b[1;33m:\u001b[0m\u001b[1;33m\u001b[0m\u001b[1;33m\u001b[0m\u001b[0m\n\u001b[0;32m    218\u001b[0m             \u001b[0mf\u001b[0m\u001b[1;33m(\u001b[0m\u001b[1;33m)\u001b[0m\u001b[1;33m\u001b[0m\u001b[1;33m\u001b[0m\u001b[0m\n",
      "\u001b[1;32m~\\anaconda3\\envs\\landlab_dev\\lib\\site-packages\\zmq\\sugar\\socket.py\u001b[0m in \u001b[0;36msend\u001b[1;34m(self, data, flags, copy, track, routing_id, group)\u001b[0m\n\u001b[0;32m    616\u001b[0m                 )\n\u001b[0;32m    617\u001b[0m             \u001b[0mdata\u001b[0m\u001b[1;33m.\u001b[0m\u001b[0mgroup\u001b[0m \u001b[1;33m=\u001b[0m \u001b[0mgroup\u001b[0m\u001b[1;33m\u001b[0m\u001b[1;33m\u001b[0m\u001b[0m\n\u001b[1;32m--> 618\u001b[1;33m         \u001b[1;32mreturn\u001b[0m \u001b[0msuper\u001b[0m\u001b[1;33m(\u001b[0m\u001b[1;33m)\u001b[0m\u001b[1;33m.\u001b[0m\u001b[0msend\u001b[0m\u001b[1;33m(\u001b[0m\u001b[0mdata\u001b[0m\u001b[1;33m,\u001b[0m \u001b[0mflags\u001b[0m\u001b[1;33m=\u001b[0m\u001b[0mflags\u001b[0m\u001b[1;33m,\u001b[0m \u001b[0mcopy\u001b[0m\u001b[1;33m=\u001b[0m\u001b[0mcopy\u001b[0m\u001b[1;33m,\u001b[0m \u001b[0mtrack\u001b[0m\u001b[1;33m=\u001b[0m\u001b[0mtrack\u001b[0m\u001b[1;33m)\u001b[0m\u001b[1;33m\u001b[0m\u001b[1;33m\u001b[0m\u001b[0m\n\u001b[0m\u001b[0;32m    619\u001b[0m \u001b[1;33m\u001b[0m\u001b[0m\n\u001b[0;32m    620\u001b[0m     def send_multipart(\n",
      "\u001b[1;32mzmq\\backend\\cython\\socket.pyx\u001b[0m in \u001b[0;36mzmq.backend.cython.socket.Socket.send\u001b[1;34m()\u001b[0m\n",
      "\u001b[1;32mzmq\\backend\\cython\\socket.pyx\u001b[0m in \u001b[0;36mzmq.backend.cython.socket.Socket.send\u001b[1;34m()\u001b[0m\n",
      "\u001b[1;32mzmq\\backend\\cython\\socket.pyx\u001b[0m in \u001b[0;36mzmq.backend.cython.socket._send_copy\u001b[1;34m()\u001b[0m\n",
      "\u001b[1;32m~\\anaconda3\\envs\\landlab_dev\\lib\\site-packages\\zmq\\backend\\cython\\checkrc.pxd\u001b[0m in \u001b[0;36mzmq.backend.cython.checkrc._check_rc\u001b[1;34m()\u001b[0m\n",
      "\u001b[1;31mKeyboardInterrupt\u001b[0m: "
     ]
    }
   ],
   "source": [
    "if os.path.exists(outputFolder):\n",
    "    print('The folder')\n",
    "    print(outputFolder)\n",
    "    print('Exists and it will be removed \\n');\n",
    "    shutil.rmtree(outputFolder)\n",
    "os.mkdir(outputFolder)\n",
    "\n",
    "\"\"\" Gets a good initial conditions - fills the channel \"\"\"\n",
    "t = 0\n",
    "while t < 2000:\n",
    "\n",
    "    of.overland_flow()  # Runs overland flow for one time step\n",
    "    t = round(t + of.dt, dtPrecision)\n",
    "    print('Filling channel - Time :',t,' sec - Water depth at outlet',round(of._h[100], 3),' m')\n",
    "\n",
    "print(' ')\n",
    "print('Filling channel - Done - Now entering the coupled hydraulic/morphodynamics model')\n",
    "print(' ')\n",
    "\n",
    "\"\"\" Now runs the actual simulation \"\"\"\n",
    "t = 0                                   # Initializates the variable\n",
    "while t < tmax:\n",
    "\n",
    "    rbd.t = t           # Current simulation time\n",
    "\n",
    "    of.overland_flow()  # Runs overland flow for one time step\n",
    "    rbd.run_one_step()  # Runs riverBedDynamics for one time step\n",
    "\n",
    "    z = rmg['node']['topographic__elevation']\n",
    "    for i in calcNodesId:\n",
    "        m = (z[i+2] - z[i+1])/rmg.dx\n",
    "        b  = z[i+1]\n",
    "        z[i] = m * (-rmg.dx) + b\n",
    "\n",
    "    ## Stores results\n",
    "    storeData = round(storeData-of.dt, dtPrecision)\n",
    "    if (storeData <=0) or storeNow:\n",
    "        os.chdir(outputFolder)\n",
    "        print('Storing results at time :',np.round(t,1),' s \\n')\n",
    "        data = np.reshape(np.hstack([t,(np.abs(of._q[linkList] * rmg.dx).T)]),[1,linkList.shape[0]+1])\n",
    "        with open(\"output0_links_surface_water__discharge.txt\", \"ab\") as f:\n",
    "            np.savetxt(f, data,'%.3f')\n",
    "        data = np.reshape(np.hstack([t,(of._h[nodeList].T)]),[1,nodeList.shape[0]+1])\n",
    "        with open(\"output1_node_surface_water__depth.txt\", \"ab\") as f:\n",
    "            np.savetxt(f, data,'%.3f')\n",
    "        data = np.reshape(np.hstack([t,np.abs(rbd._tau[linkList].T)]),[1,linkList.shape[0]+1])\n",
    "        with open(\"output2_link_surface_water__shearStress.txt\", \"ab\") as f:\n",
    "            np.savetxt(f, data,'%.3f')\n",
    "        data = np.reshape(np.hstack([t,rmg.at_node[\"topographic__elevation\"][nodeList].T]),[1,nodeList.shape[0]+1])\n",
    "        with open(\"output3_node_topographic__elevation.txt\", \"ab\") as f:\n",
    "            np.savetxt(f, data,'%.3f')\n",
    "        data = np.reshape(np.hstack([t,rmg.at_link[\"bed_surface__medianSize\"][linkList].T]),[1,linkList.shape[0]+1])\n",
    "        with open(\"output4_link_bed_surface__medianSize.txt\", \"ab\") as f:\n",
    "            np.savetxt(f, data,'%.3f')\n",
    "        data = np.reshape(np.hstack([t,rmg.at_link['sediment_transport__bedloadRate'][linkList].T]),[1,linkList.shape[0]+1])\n",
    "        with open(\"output5_links_sediment_transport__bedloadRate.txt\", \"ab\") as f:\n",
    "            np.savetxt(f, data,'%.5f')\n",
    "        storeData = round(storeDataOrg, dtPrecision)\n",
    "        storeNow = False\n",
    "        os.chdir(cwd)\n",
    "\n",
    "    tPlot = round(tPlot-of.dt, dtPrecision)\n",
    "    if tPlot <= 0  or plotNow:\n",
    "        os.chdir(outputFolder)\n",
    "        print('Elapsed time :',np.round(t,1),' s. Current dt =',\\\n",
    "              np.round(of.dt,1),'. Adaptive time =',np.round(of._adaptive_dt,1),' s - Saving plot \\n')\n",
    "\n",
    "        # Water depth plot\n",
    "        plot_name='Surface water depth [m] at ' + str(np.round(t,0)) + ' sec'\n",
    "        imshow_grid(rmg, 'surface_water__depth',cmap='Blues',vmin=0,vmax=0.5,plot_name=plot_name)\n",
    "        output='depth_'+str(np.round(t,0))+'.png'\n",
    "        plt.savefig(output,dpi=300); plt.close()\n",
    "\n",
    "        #Bed surface elevation plot\n",
    "        plot_name='Bed surface elevation [m] at ' + str(np.round(t,0)) + ' sec'\n",
    "        ZBed = rmg.at_node[\"topographic__elevation\"]\n",
    "        imshow_grid(rmg, ZBed ,cmap='RdGy',vmin=0,vmax=40,plot_name=plot_name)\n",
    "        output='topographicElevation_'+str(np.round(t,0))+'.png'\n",
    "        plt.savefig(output,dpi=300); plt.close()\n",
    "\n",
    "        #Bed surface variation plot\n",
    "        plot_name='Bed surface elevation variation [m] at ' + str(np.round(t,0)) + ' sec'\n",
    "        ZVar = rmg.at_node[\"topographic__elevation\"] - rmg.at_node['topographic__elevation_original']\n",
    "        imshow_grid(rmg, ZVar,cmap='RdGy',vmin=0,vmax=25,plot_name=plot_name)\n",
    "        output='topographicVariation_'+str(np.round(t,0))+'.png'\n",
    "        plt.savefig(output,dpi=300); plt.close()\n",
    "\n",
    "        plotNow = False\n",
    "        tPlot = tPlotOrg\n",
    "        os.chdir(cwd)\n",
    "\n",
    "    # Updating t\n",
    "    if (t + of.dt > tmax) and check_tmax:\n",
    "        of.dt = tmax - t\n",
    "        t = tmax\n",
    "        storeDataNow = True\n",
    "        plotNow = True\n",
    "        check_tmax = False\n",
    "    else:\n",
    "        t = round(t + of.dt, dtPrecision)"
   ]
  },
  {
   "cell_type": "code",
   "execution_count": 16,
   "id": "d773631b",
   "metadata": {
    "pycharm": {
     "name": "#%%\n"
    },
    "scrolled": true
   },
   "outputs": [
    {
     "data": {
      "text/plain": [
       "'\\nfor t in range(0,tmax, tPlot):\\n    if t == 0:\\n        os.remove(\"output\\\\topographicElevation_0.png\") \\n        os.remove(\\'output\\\\topographicVariation_0.png\\')\\n        os.remove(\\'output\\\\depth_0.png\\')\\n\\n    else:\\n        os.remove(\"output\\\\topographicElevation_%d.0.png\",t) \\n        os.remove(\\'output\\\\topographicVariation_%d.0.png\\',t)\\n        os.remove(\\'output\\\\depth_%d.0.png\\',t)\\n'"
      ]
     },
     "execution_count": 16,
     "metadata": {},
     "output_type": "execute_result"
    }
   ],
   "source": [
    "#To delete the output files after running, uncomment below\n",
    "'''\n",
    "for t in range(0,tmax, tPlot):\n",
    "    if t == 0:\n",
    "        os.remove(\"output\\\\topographicElevation_0.png\") \n",
    "        os.remove('output\\\\topographicVariation_0.png')\n",
    "        os.remove('output\\\\depth_0.png')\n",
    "\n",
    "    else:\n",
    "        os.remove(\"output\\\\topographicElevation_%d.0.png\",t) \n",
    "        os.remove('output\\\\topographicVariation_%d.0.png',t)\n",
    "        os.remove('output\\\\depth_%d.0.png',t)\n",
    "'''"
   ]
  },
  {
   "cell_type": "code",
   "execution_count": null,
   "id": "947a0535",
   "metadata": {
    "pycharm": {
     "name": "#%%\n"
    }
   },
   "outputs": [],
   "source": []
  },
  {
   "cell_type": "code",
   "execution_count": null,
   "id": "1702d867",
   "metadata": {
    "pycharm": {
     "name": "#%%\n"
    }
   },
   "outputs": [],
   "source": []
  }
 ],
 "metadata": {
  "kernelspec": {
   "display_name": "Python 3 (ipykernel)",
   "language": "python",
   "name": "python3"
  },
  "language_info": {
   "codemirror_mode": {
    "name": "ipython",
    "version": 3
   },
   "file_extension": ".py",
   "mimetype": "text/x-python",
   "name": "python",
   "nbconvert_exporter": "python",
   "pygments_lexer": "ipython3",
   "version": "3.10.5"
  }
 },
 "nbformat": 4,
 "nbformat_minor": 5
}
